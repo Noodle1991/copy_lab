{
 "cells": [
  {
   "cell_type": "markdown",
   "id": "c3df06f9-cc35-4f68-8adc-2d65d0be5e14",
   "metadata": {},
   "source": [
    "<h1>Лабораторная работа №3<br>\n",
    "    \"Линейные двунаправленные списки (Doubly linked list)\"</h1>\n",
    "    \n",
    "<h3>Цель работы</h3>\n",
    "    Изучение структуры данных «линейные двунаправленные списки», а также основных операций над ними.\n",
    "\n",
    "<br>\n",
    "<br>\n",
    "\n",
    "<h3>Задачи лабораторной работы</h3>\n",
    "\n",
    "<ol>\n",
    "    <li><b>Реализовать линейный двунаправленный спискок, соответствующий требованиям:</b></li>\n",
    "    <ul>\n",
    "        <li>список должен быть реализован в виде класса;</li>\n",
    "        <li>каждая операция должна быть реализована как метод класса;</li>\n",
    "        <li>добавлению/удалению должна предшествовать проверка возможности выполнения этих операций;</li>\n",
    "    </ul>\n",
    "    <br>\n",
    "    <li><b>Реализовать программу, выполняющую стандартный набор операций с линейным двунаправленным списком:</b></li>\n",
    "    <ul>\n",
    "        <li>вставка элемента в начало списка;</li>\n",
    "        <li>вставка элемента в середину списка перед указанным значением;</li>\n",
    "        <li>вставка элемента в середину списка после указанного значения;</li>\n",
    "        <li>вставка элемента в конец списка;</li>\n",
    "        <li>удаление элемента в начале списка;</li>\n",
    "        <li>удаление элемента, стоящего перед указанным значением списка;</li>\n",
    "        <li>удаление элемента, стоящего после указанного значением списка;</li>\n",
    "        <li>удаление определенного элемента в списке;</li>\n",
    "        <li>удаление элемента в конце списка;</li>\n",
    "        <li>очистка списка;</li>\n",
    "        <li>поиск элемента списка по его значяению;</li>\n",
    "        <li>реверс списка;</li>\n",
    "    </ul>\n",
    "    <br>\n",
    "    <li><b>Реализовать приложение, для работы со списком, которое реализует следующий набор действий:</b></li>\n",
    "    <ul>\n",
    "        <li>инициализация пустого линейного однонаправленного списка;</li>\n",
    "        <li>организация диалогового цикла с пользователем;</li>\n",
    "    </ul>\n",
    "    <br>\n",
    "    <li><b>Реализовать индивидуальное задание:</b></li>\n",
    "    <ul>\n",
    "        <li>Имеется список целых чисел. Удалить из него все нечетные числа;</li>\n",
    "        <li>Удалить из списка действительных чисел все минимальные элементы;</li>\n",
    "    </ul>\n",
    "</ol>\n",
    "\n",
    "<br>\n",
    "\n",
    "<h3>Listing</h3>\n",
    "\n",
    "<h5>Список</h5>\n",
    "\n",
    "```python\n",
    "class DoublyLinkedListException(Exception):\n",
    "    def __init__(self, *args):\n",
    "\n",
    "    def __str__(self):\n",
    "\n",
    "\n",
    "class Node:\n",
    "    def __init__(self, prev_node=None, data=None, next_node=None):\n",
    "\n",
    "\n",
    "class DoublyLinkedList:\n",
    "    '''Линейный двунаправленный список'''\n",
    "    \n",
    "    def __init__(self):\n",
    "        '''Создание и инициализация списка'''\n",
    "\n",
    "    def push_front(self, data):\n",
    "        '''Добавление элемента в начало списка'''\n",
    "\n",
    "    def insert(self, data, index: int):\n",
    "        '''Добавление элемента перед указанным индексом'''\n",
    "\n",
    "    def insert_after_index(self, data, index: int):\n",
    "        '''Добавление элемента после указанного индекса'''\n",
    "\n",
    "    def push_back(self, data):\n",
    "        '''Добавление элемента в конец списка'''\n",
    "\n",
    "    def pop_front(self):\n",
    "        '''Удаление элемента из начала списка'''\n",
    "\n",
    "    def pop(self, index: int):\n",
    "        '''Удаление элемента перед указанным индексом'''\n",
    "\n",
    "    def pop_after_index(self, index: int):\n",
    "        '''Удаление элемента после указанного индекса'''\n",
    "\n",
    "    def remove(self, data):\n",
    "        '''Удаление элемента по его значению'''\n",
    "\n",
    "    def pop_back(self):\n",
    "        '''Удаление элемента в конце списка'''\n",
    "\n",
    "    def clear(self):\n",
    "        '''Очистка списка'''\n",
    "\n",
    "    def index(self, data):\n",
    "        '''Поиск элемента по его значению'''\n",
    "\n",
    "    def reverse(self):\n",
    "        '''Реверс списка'''\n",
    "\n",
    "    def __str__(self):\n",
    "\n",
    "    def __getitem__(self, index: int):\n",
    "\n",
    "    def delete_odd_numbers(self):\n",
    "        '''Удаление всех нечетных чисел из списка целых чилес'''\n",
    "\n",
    "    def delete_minimum(self):\n",
    "        '''Удаление всех минимальных значений из списка целых чилес'''\n",
    "```\n",
    "\n",
    "<br>\n",
    "\n",
    "<h3>Вывод</h3>\n",
    "Во время выполнения лабораторной работы:\n",
    "<ul>\n",
    "    <li>изучен материал о структуре данных \"линейный двунаправленный список\"</li>\n",
    "    <li>написана собственная реализация двунаправленнего списока и вспомогательных классов</li>\n",
    "    <li>реализована программа выполнения стандартных методов с линейным двунаправленным списком</li>\n",
    "    <li>реализовано консолькое приложение для осуществления диалогового цикла с пользователем</li>\n",
    "\n",
    "</ul>\n",
    "<br>\n",
    "\n",
    "<h3>Контрольные вопросы</h3>\n",
    "<ol>\n",
    "    <li><b>Что такое динамическая структура данных?</b></li>\n",
    "    Динамическая структура данных – это структура данных, память под которую изменяется (выделяется и освобождается) во время выполнения программы, а не в момент ее запуска.\n",
    "    <li><b>Что такое список?</b></li>\n",
    "    Список – это набор связанных элементов, в котором каждый элемент определяет следующий (и предыдущий) элемент.\n",
    "    <li><b>Какие виды списков существуют?</b></li>\n",
    "    <ul>\n",
    "        <li>Линейные однонаправленные</li>\n",
    "        <li>Линейные двунаправленные</li>\n",
    "        <li>Линейные циклические однонаправленные</li>\n",
    "        <li>Линейные циклические двунаправленные</li>\n",
    "    </ul>\n",
    "    <li><b>Какие основные операции выполняются над списком?</b></li>\n",
    "    <ul>\n",
    "        <li>Добавление элемента</li>\n",
    "        <li>Удаление элемента</li>\n",
    "        <li>Просмотр элементов</li>\n",
    "        <li>Поиск элемента с заданным ключом</li>\n",
    "    </ul>\n",
    "    <li><b>Особенности выполнения операции вставки первого и не первого элемента в двунаправленный список.</b></li>\n",
    "    Вставка первого элемента осуществляется за константное время (т.е. $O(1)$), для выполнения действия необходимо иметь указатель на начало списка (head_). Сложность вставки не первого элемента является линейной - $O(n)$. Для вставки необходимо \"передвигаться\" по элементам до нужной позиции. Вставка последнего элемента осуществляется за константное время (т.е. $O(1)$), для выполнения действия необходимо иметь указатель на конец списка (tail_).\n",
    "    <li><b>Особенности выполнения операции удаления первого и не первого элемента.</b></li>\n",
    "    Удаление первого элемента осуществляется за константное время (т.е. $O(1)$), для выполнения действия необходимо иметь указатель на начало списка (head_) и на следующий элемент (т.е. на второй). Сложность удаление не первого элемента является линейной - $O(n)$. Для вставки необходимо \"передвигаться\" по элементам до нужной позиции и временно сохранить указатели на 2 элемента, между которыми будет удален элемент. Удаление последнего элемента осуществляется за константное время (т.е. $O(1)$), для выполнения действия необходимо иметь указатель на конец списка (tail_).\n",
    "</ol>\n"
   ]
  },
  {
   "cell_type": "markdown",
   "id": "0724b8b8-25fa-423f-af76-3d9216d4b0d8",
   "metadata": {},
   "source": [
    "<h2>Реализация DoublyLinkedList и вспомогательных классов</h2>"
   ]
  },
  {
   "cell_type": "code",
   "execution_count": 5,
   "id": "d9373d68-b069-4d02-965b-483cc3205187",
   "metadata": {},
   "outputs": [],
   "source": [
    "class DoublyLinkedListException(Exception):\n",
    "    def __init__(self, *args):\n",
    "        if args:\n",
    "            self.message = args[0]\n",
    "        else:\n",
    "            self.message = None\n",
    "\n",
    "    def __str__(self):\n",
    "        if self.message:\n",
    "            return f'DoublyLinkedListException: {self.message}'\n",
    "        else:\n",
    "            return 'DoublyLinkedListException has been raised'\n",
    "\n",
    "\n",
    "class Node:\n",
    "    def __init__(self, prev_node=None, data=None, next_node=None):\n",
    "        self.data_ = data\n",
    "        self.next_: Node = next_node\n",
    "        self.prev_: Node = prev_node\n",
    "\n",
    "\n",
    "class DoublyLinkedList:\n",
    "    def __init__(self):\n",
    "        self.size_: int = 0\n",
    "        self.head_: Node = None\n",
    "        self.tail_: Node = None\n",
    "\n",
    "    def push_front(self, data):\n",
    "        new_node = Node(None, data, None)\n",
    "        if not self.size_:\n",
    "            self.head_ = new_node\n",
    "            self.tail_ = new_node\n",
    "        else:\n",
    "            new_node.next_ = self.head_\n",
    "            self.head_.prev_ = new_node\n",
    "            self.head_ = new_node\n",
    "        self.size_ += 1\n",
    "\n",
    "    def insert(self, data, index: int):\n",
    "        if index < 0:\n",
    "            index += self.size_\n",
    "        if index == 0:\n",
    "            self.push_front(data)\n",
    "        elif index == self.size_:\n",
    "            self.push_back(data)\n",
    "        elif index < 0 or index > self.size_:\n",
    "            raise DoublyLinkedListException('wrong index')\n",
    "        else:\n",
    "            tmp_node = self.head_\n",
    "            for _ in range(index - 1):\n",
    "                tmp_node = tmp_node.next_\n",
    "            new_node = Node(tmp_node, data, tmp_node.next_)\n",
    "            tmp_node.next_.prev_ = new_node\n",
    "            tmp_node.next_ = new_node\n",
    "            self.size_ += 1\n",
    "\n",
    "    def insert_after_index(self, data, index: int):\n",
    "        self.insert(data, index + 1)\n",
    "\n",
    "    def push_back(self, data):\n",
    "        if not self.size_:\n",
    "            self.push_front(data)\n",
    "        else:\n",
    "            tmp_node = self.tail_\n",
    "            new_node = Node(tmp_node, data, None)\n",
    "            tmp_node.next_ = new_node\n",
    "            self.tail_ = new_node\n",
    "            self.size_ += 1\n",
    "\n",
    "    def pop_front(self):\n",
    "        if not self.size_:\n",
    "            raise DoublyLinkedListException('list is empty')\n",
    "        else:\n",
    "            tmp_node = self.head_\n",
    "            self.head_ = tmp_node.next_\n",
    "            if self.head_:\n",
    "                self.head_.prev_ = None\n",
    "            else:\n",
    "                self.tail_ = None\n",
    "            self.size_ -= 1\n",
    "            return tmp_node.data_\n",
    "\n",
    "    def pop(self, index: int):\n",
    "        if index < 0:\n",
    "            index += self.size_\n",
    "        if index == 0:\n",
    "            return self.pop_front()\n",
    "        elif index == self.size_ - 1:\n",
    "            return self.pop_back()\n",
    "        elif index < 0 or index >= self.size_:\n",
    "            raise DoublyLinkedListException('wrong index')\n",
    "        else:\n",
    "            remote_node = self.head_\n",
    "            for i in range(index):\n",
    "                remote_node = remote_node.next_\n",
    "            remote_node.next_.prev_ = remote_node.prev_\n",
    "            remote_node.prev_.next_ = remote_node.next_\n",
    "            self.size_ -= 1\n",
    "            return remote_node.data_\n",
    "\n",
    "    def pop_after_index(self, index: int):\n",
    "        return self.pop(index + 1)\n",
    "\n",
    "    def remove(self, data):\n",
    "        index = self.index(data)\n",
    "        self.pop(index)\n",
    "\n",
    "    def pop_back(self):\n",
    "        if not self.size_:\n",
    "            raise DoublyLinkedListException('list is empty')\n",
    "        else:\n",
    "            if self.size_ == 1:\n",
    "                return self.pop_front()\n",
    "            tmp_node = self.head_\n",
    "            while tmp_node.next_:\n",
    "                tmp_node = tmp_node.next_\n",
    "            tmp_node.prev_.next_ = None\n",
    "            self.tail_ = tmp_node.prev_\n",
    "            self.size_ -= 1\n",
    "            return tmp_node.data_\n",
    "\n",
    "    def clear(self):\n",
    "        if self.size_:\n",
    "            tmp_node = self.head_\n",
    "            while tmp_node:\n",
    "                tmp_node.prev_ = None\n",
    "                tmp_node = tmp_node.next_\n",
    "            self.head_ = None\n",
    "            self.tail_ = None\n",
    "            self.size_ = 0\n",
    "\n",
    "    def index(self, data):\n",
    "        if not self.size_:\n",
    "            raise DoublyLinkedListException('list is empty')\n",
    "        else:\n",
    "            tmp_node = self.head_\n",
    "            count = 0\n",
    "            while tmp_node:\n",
    "                if tmp_node.data_ == data:\n",
    "                    return count\n",
    "                else:\n",
    "                    tmp_node = tmp_node.next_\n",
    "                    count += 1\n",
    "            else:\n",
    "                raise DoublyLinkedListException(f'{data} is not in DoublyLinkedList')\n",
    "\n",
    "    def reverse(self):\n",
    "        if self.size_:\n",
    "            tmp_node = self.head_\n",
    "            while tmp_node:\n",
    "                tmp_node.next_, tmp_node.prev_ = tmp_node.prev_, tmp_node.next_\n",
    "                tmp_node = tmp_node.prev_\n",
    "            self.head_, self.tail_ = self.tail_, self.head_\n",
    "\n",
    "    def __str__(self):\n",
    "        text = '['\n",
    "        if self.size_:\n",
    "            tmp_node = self.head_\n",
    "            while tmp_node:\n",
    "                text += str(tmp_node.data_)\n",
    "                tmp_node = tmp_node.next_\n",
    "                if tmp_node:\n",
    "                    text += ', '\n",
    "        text += ']'\n",
    "        return text\n",
    "\n",
    "    def __getitem__(self, index: int):\n",
    "        if index < 0:\n",
    "            index += self.size_\n",
    "        if index < 0 or index >= self.size_:\n",
    "            raise DoublyLinkedListException('wrong index')\n",
    "        else:\n",
    "            tmp_node = self.head_\n",
    "            for i in range(index):\n",
    "                tmp_node = tmp_node.next_\n",
    "            return tmp_node.data_\n",
    "\n",
    "    def delete_odd_numbers(self):\n",
    "        remote_node = self.head_\n",
    "        while remote_node:\n",
    "            if remote_node.data_ % 2:\n",
    "                if remote_node is self.head_:\n",
    "                    if remote_node.next_:\n",
    "                        remote_node.next_.prev_ = None\n",
    "                    self.head_ = remote_node.next_\n",
    "                elif remote_node is self.tail_:\n",
    "                    remote_node.prev_.next_ = None\n",
    "                    self.tail_ = remote_node.prev_\n",
    "                else:\n",
    "                    remote_node.next_.prev_ = remote_node.prev_\n",
    "                    remote_node.prev_.next_ = remote_node.next_\n",
    "                self.size_ -= 1\n",
    "            remote_node = remote_node.next_\n",
    "\n",
    "    def delete_minimum(self):\n",
    "        if not self.size_:\n",
    "            raise DoublyLinkedListException('list is empty')\n",
    "        else:\n",
    "            tmp_node = self.head_\n",
    "            min_value = tmp_node.data_\n",
    "        while tmp_node:\n",
    "            if min_value > tmp_node.data_:\n",
    "                min_value = tmp_node.data_\n",
    "            tmp_node = tmp_node.next_\n",
    "\n",
    "        remote_node = self.head_\n",
    "        while remote_node:\n",
    "            if remote_node.data_ == min_value:\n",
    "                if remote_node is self.head_:\n",
    "                    if remote_node.next_:\n",
    "                        remote_node.next_.prev_ = None\n",
    "                    self.head_ = remote_node.next_\n",
    "                elif remote_node is self.tail_:\n",
    "                    remote_node.prev_.next_ = None\n",
    "                    self.tail_ = remote_node.prev_\n",
    "                else:\n",
    "                    remote_node.next_.prev_ = remote_node.prev_\n",
    "                    remote_node.prev_.next_ = remote_node.next_\n",
    "                self.size_ -= 1\n",
    "            remote_node = remote_node.next_"
   ]
  },
  {
   "cell_type": "markdown",
   "id": "c2dd0141-451e-465e-bf7e-c95df2268874",
   "metadata": {},
   "source": [
    "<h2>Реализация приложения для взаимодействия с пользователем для выполения операций над списком</h2>"
   ]
  },
  {
   "cell_type": "code",
   "execution_count": 6,
   "id": "5eca522e-d79d-468e-a4bf-eef8432355b0",
   "metadata": {},
   "outputs": [
    {
     "name": "stdin",
     "output_type": "stream",
     "text": [
      "Для создания списка и начала работы пропишите \"Create\"\n",
      ">> create\n"
     ]
    },
    {
     "name": "stdout",
     "output_type": "stream",
     "text": [
      "\n",
      "    Для взаимодействия со списком введите название команды.\n",
      "\n",
      "    Доступные команды:\n",
      "    * Вывести меню с командами: \"menu\"\n",
      "    * Завершить программу: \"exit\"\n",
      "    * Вывести список в чат: \"print\"\n",
      "    * Добавить элемент в начало списка: \"push_front\"\n",
      "    * Добавить элемент перед указанным индексом: \"insert\"\n",
      "    * Добавить элемент после указанного индекса: \"shift_insert\"\n",
      "    * Добавить элемент в конец списка: \"push_back\"\n",
      "    * Удалить элемент из начала списка: \"pop_front\"\n",
      "    * Удалить элемент перед указанным индексом: \"pop\"\n",
      "    * Удалить элемент после указанного индекса: \"shift_pop\"\n",
      "    * Удалить элемент списка по его значению: \"remove\"\n",
      "    * Удалить элемент из конца списка: \"pop_back\"\n",
      "    * Очистить список: \"clear\"\n",
      "    * Вывести значение по индексу: \"item\"\n",
      "    * Вывести индекс элемента по значению: \"index\"\n",
      "    * Реверсировать список: \"reverse\"\n",
      "    * Удалить все нечетные числа: \"del_odd_nums\"\n",
      "    * Удалить все числа с минимальным значением: \"del_min_nums\"\n",
      "    \n"
     ]
    },
    {
     "name": "stdin",
     "output_type": "stream",
     "text": [
      "Введите команду\n",
      ">> b\n"
     ]
    },
    {
     "name": "stdout",
     "output_type": "stream",
     "text": [
      "Не существует команды b! Попробуйте еще раз.\n",
      "\n",
      "    Для взаимодействия со списком введите название команды.\n",
      "\n",
      "    Доступные команды:\n",
      "    * Вывести меню с командами: \"menu\"\n",
      "    * Завершить программу: \"exit\"\n",
      "    * Вывести список в чат: \"print\"\n",
      "    * Добавить элемент в начало списка: \"push_front\"\n",
      "    * Добавить элемент перед указанным индексом: \"insert\"\n",
      "    * Добавить элемент после указанного индекса: \"shift_insert\"\n",
      "    * Добавить элемент в конец списка: \"push_back\"\n",
      "    * Удалить элемент из начала списка: \"pop_front\"\n",
      "    * Удалить элемент перед указанным индексом: \"pop\"\n",
      "    * Удалить элемент после указанного индекса: \"shift_pop\"\n",
      "    * Удалить элемент списка по его значению: \"remove\"\n",
      "    * Удалить элемент из конца списка: \"pop_back\"\n",
      "    * Очистить список: \"clear\"\n",
      "    * Вывести значение по индексу: \"item\"\n",
      "    * Вывести индекс элемента по значению: \"index\"\n",
      "    * Реверсировать список: \"reverse\"\n",
      "    * Удалить все нечетные числа: \"del_odd_nums\"\n",
      "    * Удалить все числа с минимальным значением: \"del_min_nums\"\n",
      "    \n",
      "\n"
     ]
    },
    {
     "name": "stdin",
     "output_type": "stream",
     "text": [
      "Введите команду\n",
      ">> print\n"
     ]
    },
    {
     "name": "stdout",
     "output_type": "stream",
     "text": [
      "[]\n",
      "\n"
     ]
    },
    {
     "name": "stdin",
     "output_type": "stream",
     "text": [
      "Введите команду\n",
      ">> push_back\n",
      "Введите значение элемента\n",
      ">> 43\n"
     ]
    },
    {
     "name": "stdout",
     "output_type": "stream",
     "text": [
      "Елемент 43.0 был добавлен в конец списка\n",
      "\n"
     ]
    },
    {
     "name": "stdin",
     "output_type": "stream",
     "text": [
      "Введите команду\n",
      ">> print\n"
     ]
    },
    {
     "name": "stdout",
     "output_type": "stream",
     "text": [
      "[43.0]\n",
      "\n"
     ]
    },
    {
     "name": "stdin",
     "output_type": "stream",
     "text": [
      "Введите команду\n",
      ">> push_back\n",
      "Введите значение элемента\n",
      ">> 54354\n"
     ]
    },
    {
     "name": "stdout",
     "output_type": "stream",
     "text": [
      "Елемент 54354.0 был добавлен в конец списка\n",
      "\n"
     ]
    },
    {
     "name": "stdin",
     "output_type": "stream",
     "text": [
      "Введите команду\n",
      ">> print\n"
     ]
    },
    {
     "name": "stdout",
     "output_type": "stream",
     "text": [
      "[43.0, 54354.0]\n",
      "\n"
     ]
    },
    {
     "name": "stdin",
     "output_type": "stream",
     "text": [
      "Введите команду\n",
      ">> push_front\n",
      "Введите значение элемента\n",
      ">> 534\n"
     ]
    },
    {
     "name": "stdout",
     "output_type": "stream",
     "text": [
      "Елемент 534.0 был добавлен в начало списка\n",
      "\n"
     ]
    },
    {
     "name": "stdin",
     "output_type": "stream",
     "text": [
      "Введите команду\n",
      ">> push_front\n",
      "Введите значение элемента\n",
      ">> 77\n"
     ]
    },
    {
     "name": "stdout",
     "output_type": "stream",
     "text": [
      "Елемент 77.0 был добавлен в начало списка\n",
      "\n"
     ]
    },
    {
     "name": "stdin",
     "output_type": "stream",
     "text": [
      "Введите команду\n",
      ">> print\n"
     ]
    },
    {
     "name": "stdout",
     "output_type": "stream",
     "text": [
      "[77.0, 534.0, 43.0, 54354.0]\n",
      "\n"
     ]
    },
    {
     "name": "stdin",
     "output_type": "stream",
     "text": [
      "Введите команду\n",
      ">> insert\n",
      "Введите индекс\n",
      ">> 2\n",
      "Введите значение элемента\n",
      ">> 55\n"
     ]
    },
    {
     "name": "stdout",
     "output_type": "stream",
     "text": [
      "Елемент 55.0 был добавлен на 2 позицию списка\n",
      "\n"
     ]
    },
    {
     "name": "stdin",
     "output_type": "stream",
     "text": [
      "Введите команду\n",
      ">> print\n"
     ]
    },
    {
     "name": "stdout",
     "output_type": "stream",
     "text": [
      "[77.0, 534.0, 55.0, 43.0, 54354.0]\n",
      "\n"
     ]
    },
    {
     "name": "stdin",
     "output_type": "stream",
     "text": [
      "Введите команду\n",
      ">> shift_insert\n",
      "Введите индекс\n",
      ">> 2\n",
      "Введите значение элемента\n",
      ">> 66\n"
     ]
    },
    {
     "name": "stdout",
     "output_type": "stream",
     "text": [
      "Елемент 66.0 был добавлен на 3 позицию списка\n",
      "\n"
     ]
    },
    {
     "name": "stdin",
     "output_type": "stream",
     "text": [
      "Введите команду\n",
      ">> print\n"
     ]
    },
    {
     "name": "stdout",
     "output_type": "stream",
     "text": [
      "[77.0, 534.0, 55.0, 66.0, 43.0, 54354.0]\n",
      "\n"
     ]
    },
    {
     "name": "stdin",
     "output_type": "stream",
     "text": [
      "Введите команду\n",
      ">> pop_back\n"
     ]
    },
    {
     "name": "stdout",
     "output_type": "stream",
     "text": [
      "Елемент 54354.0 был удален из конца списка\n",
      "\n"
     ]
    },
    {
     "name": "stdin",
     "output_type": "stream",
     "text": [
      "Введите команду\n",
      ">> print\n"
     ]
    },
    {
     "name": "stdout",
     "output_type": "stream",
     "text": [
      "[77.0, 534.0, 55.0, 66.0, 43.0]\n",
      "\n"
     ]
    },
    {
     "name": "stdin",
     "output_type": "stream",
     "text": [
      "Введите команду\n",
      ">> pop_front\n"
     ]
    },
    {
     "name": "stdout",
     "output_type": "stream",
     "text": [
      "Елемент 77.0 был удален из начала списка\n",
      "\n"
     ]
    },
    {
     "name": "stdin",
     "output_type": "stream",
     "text": [
      "Введите команду\n",
      ">> print\n"
     ]
    },
    {
     "name": "stdout",
     "output_type": "stream",
     "text": [
      "[534.0, 55.0, 66.0, 43.0]\n",
      "\n"
     ]
    },
    {
     "name": "stdin",
     "output_type": "stream",
     "text": [
      "Введите команду\n",
      ">> pop(1)\n"
     ]
    },
    {
     "name": "stdout",
     "output_type": "stream",
     "text": [
      "Не существует команды pop(1)! Попробуйте еще раз.\n",
      "\n",
      "    Для взаимодействия со списком введите название команды.\n",
      "\n",
      "    Доступные команды:\n",
      "    * Вывести меню с командами: \"menu\"\n",
      "    * Завершить программу: \"exit\"\n",
      "    * Вывести список в чат: \"print\"\n",
      "    * Добавить элемент в начало списка: \"push_front\"\n",
      "    * Добавить элемент перед указанным индексом: \"insert\"\n",
      "    * Добавить элемент после указанного индекса: \"shift_insert\"\n",
      "    * Добавить элемент в конец списка: \"push_back\"\n",
      "    * Удалить элемент из начала списка: \"pop_front\"\n",
      "    * Удалить элемент перед указанным индексом: \"pop\"\n",
      "    * Удалить элемент после указанного индекса: \"shift_pop\"\n",
      "    * Удалить элемент списка по его значению: \"remove\"\n",
      "    * Удалить элемент из конца списка: \"pop_back\"\n",
      "    * Очистить список: \"clear\"\n",
      "    * Вывести значение по индексу: \"item\"\n",
      "    * Вывести индекс элемента по значению: \"index\"\n",
      "    * Реверсировать список: \"reverse\"\n",
      "    * Удалить все нечетные числа: \"del_odd_nums\"\n",
      "    * Удалить все числа с минимальным значением: \"del_min_nums\"\n",
      "    \n",
      "\n"
     ]
    },
    {
     "name": "stdin",
     "output_type": "stream",
     "text": [
      "Введите команду\n",
      ">> pop\n",
      "Введите индекс\n",
      ">> 1\n"
     ]
    },
    {
     "name": "stdout",
     "output_type": "stream",
     "text": [
      "Елемент 55.0 был удален на 1 позиции списка\n",
      "\n"
     ]
    },
    {
     "name": "stdin",
     "output_type": "stream",
     "text": [
      "Введите команду\n",
      ">> print\n"
     ]
    },
    {
     "name": "stdout",
     "output_type": "stream",
     "text": [
      "[534.0, 66.0, 43.0]\n",
      "\n"
     ]
    },
    {
     "name": "stdin",
     "output_type": "stream",
     "text": [
      "Введите команду\n",
      ">> shift_pop\n",
      "Введите индекс\n",
      ">> 0\n"
     ]
    },
    {
     "name": "stdout",
     "output_type": "stream",
     "text": [
      "Елемент 66.0 был удален на 1 позиции списка\n",
      "\n"
     ]
    },
    {
     "name": "stdin",
     "output_type": "stream",
     "text": [
      "Введите команду\n",
      ">> print\n"
     ]
    },
    {
     "name": "stdout",
     "output_type": "stream",
     "text": [
      "[534.0, 43.0]\n",
      "\n"
     ]
    },
    {
     "name": "stdin",
     "output_type": "stream",
     "text": [
      "Введите команду\n",
      ">> clear\n"
     ]
    },
    {
     "name": "stdout",
     "output_type": "stream",
     "text": [
      "Список был очищен!\n",
      "\n"
     ]
    },
    {
     "name": "stdin",
     "output_type": "stream",
     "text": [
      "Введите команду\n",
      ">> print\n"
     ]
    },
    {
     "name": "stdout",
     "output_type": "stream",
     "text": [
      "[]\n",
      "\n"
     ]
    },
    {
     "name": "stdin",
     "output_type": "stream",
     "text": [
      "Введите команду\n",
      ">> exit\n",
      "Вы точно хотите завершить работу программы? Y/N\n",
      ">> Y\n"
     ]
    },
    {
     "name": "stdout",
     "output_type": "stream",
     "text": [
      "\n",
      "Завершение работы программы\n"
     ]
    }
   ],
   "source": [
    "menu = '''\n",
    "    Для взаимодействия со списком введите название команды.\n",
    "\n",
    "    Доступные команды:\n",
    "    * Вывести меню с командами: \"menu\"\n",
    "    * Завершить программу: \"exit\"\n",
    "    * Вывести список в чат: \"print\"\n",
    "    * Добавить элемент в начало списка: \"push_front\"\n",
    "    * Добавить элемент перед указанным индексом: \"insert\"\n",
    "    * Добавить элемент после указанного индекса: \"shift_insert\"\n",
    "    * Добавить элемент в конец списка: \"push_back\"\n",
    "    * Удалить элемент из начала списка: \"pop_front\"\n",
    "    * Удалить элемент перед указанным индексом: \"pop\"\n",
    "    * Удалить элемент после указанного индекса: \"shift_pop\"\n",
    "    * Удалить элемент списка по его значению: \"remove\"\n",
    "    * Удалить элемент из конца списка: \"pop_back\"\n",
    "    * Очистить список: \"clear\"\n",
    "    * Вывести значение по индексу: \"item\"\n",
    "    * Вывести индекс элемента по значению: \"index\"\n",
    "    * Реверсировать список: \"reverse\"\n",
    "    * Удалить все нечетные числа: \"del_odd_nums\"\n",
    "    * Удалить все числа с минимальным значением: \"del_min_nums\"\n",
    "    '''\n",
    "\n",
    "message = input('Для создания списка и начала работы пропишите \"Create\"\\n>>')\n",
    "if message.lower() == 'create':\n",
    "    lst = DoublyLinkedList()\n",
    "    print(menu)\n",
    "\n",
    "    run = True\n",
    "    while run:\n",
    "        command = input('Введите команду\\n>>')\n",
    "        correct_index = True\n",
    "        match command:\n",
    "            case 'menu':\n",
    "                print(menu)\n",
    "\n",
    "            case 'exit':\n",
    "                stop = input('Вы точно хотите завершить работу программы? Y/N\\n>>')\n",
    "                if stop.lower() == 'y' or stop.lower() == 'yes':\n",
    "                    run = False\n",
    "\n",
    "            case 'print':\n",
    "                print(lst)\n",
    "\n",
    "            case 'push_front':\n",
    "                value = input('Введите значение элемента\\n>>')\n",
    "                try:\n",
    "                    value = float(value)\n",
    "                except:\n",
    "                    pass\n",
    "\n",
    "                lst.push_front(value)\n",
    "                print(f'Елемент {value} был добавлен в начало списка')\n",
    "\n",
    "            case 'insert':\n",
    "                index = input('Введите индекс\\n>>')\n",
    "                value = input('Введите значение элемента\\n>>')\n",
    "                try:\n",
    "                    index = int(index)\n",
    "                except:\n",
    "                    correct_index = False\n",
    "\n",
    "                if correct_index:\n",
    "                    try:\n",
    "                        value = float(value)\n",
    "                    except:\n",
    "                        pass\n",
    "                    lst.insert(value, index)\n",
    "                    print(f'Елемент {value} был добавлен на {index} позицию списка')\n",
    "\n",
    "            case 'shift_insert':\n",
    "                index = input('Введите индекс\\n>>')\n",
    "                value = input('Введите значение элемента\\n>>')\n",
    "                try:\n",
    "                    index = int(index)\n",
    "                except:\n",
    "                    correct_index = False\n",
    "\n",
    "                if correct_index:\n",
    "                    try:\n",
    "                        value = float(value)\n",
    "                    except:\n",
    "                        pass\n",
    "                    lst.insert_after_index(value, index)\n",
    "                    print(f'Елемент {value} был добавлен на {index + 1} позицию списка')\n",
    "\n",
    "            case \"push_back\":\n",
    "                value = input('Введите значение элемента\\n>>')\n",
    "                try:\n",
    "                    value = float(value)\n",
    "                except:\n",
    "                    pass\n",
    "\n",
    "                lst.push_back(value)\n",
    "                print(f'Елемент {value} был добавлен в конец списка')\n",
    "\n",
    "            case \"pop_front\":\n",
    "                value = lst.pop_front()\n",
    "                print(f'Елемент {value} был удален из начала списка')\n",
    "\n",
    "            case \"pop\":\n",
    "                index = input('Введите индекс\\n>>')\n",
    "                try:\n",
    "                    index = int(index)\n",
    "                except:\n",
    "                    correct_index = False\n",
    "\n",
    "                if correct_index:\n",
    "                    value = lst.pop(index)\n",
    "                    print(f'Елемент {value} был удален на {index} позиции списка')\n",
    "\n",
    "            case \"shift_pop\":\n",
    "                index = input('Введите индекс\\n>>')\n",
    "                try:\n",
    "                    index = int(index)\n",
    "                except:\n",
    "                    correct_index = False\n",
    "\n",
    "                if correct_index:\n",
    "                    value = lst.pop_after_index(index)\n",
    "                    print(f'Елемент {value} был удален на {index + 1} позиции списка')\n",
    "\n",
    "            case \"remove\":\n",
    "                value = input('Введите значение элемента\\n>>')\n",
    "                try:\n",
    "                    value = float(value)\n",
    "                except:\n",
    "                    pass\n",
    "\n",
    "                lst.remove(value)\n",
    "                print(f'Елемент {value} был удален из списка')\n",
    "\n",
    "            case \"pop_back\":\n",
    "                value = lst.pop_back()\n",
    "                print(f'Елемент {value} был удален из конца списка')\n",
    "\n",
    "            case \"clear\":\n",
    "                lst.clear()\n",
    "                print('Список был очищен!')\n",
    "\n",
    "            case \"item\":\n",
    "                index = input('Введите индекс\\n>>')\n",
    "                try:\n",
    "                    index = int(index)\n",
    "                except:\n",
    "                    correct_index = False\n",
    "\n",
    "                if correct_index:\n",
    "                    print(lst[index])\n",
    "\n",
    "            case \"index\":\n",
    "                value = input('Введите значение элемента\\n>>')\n",
    "                try:\n",
    "                    value = float(value)\n",
    "                except:\n",
    "                    pass\n",
    "\n",
    "                index = lst.index(value)\n",
    "                print(f'Элемент {value} находится в списке под индексом {index}')\n",
    "\n",
    "            case \"reverse\":\n",
    "                lst.reverse()\n",
    "\n",
    "            case \"del_odd_nums\":\n",
    "                lst.delete_odd_numbers()\n",
    "\n",
    "            case \"del_min_nums\":\n",
    "                lst.delete_minimum()\n",
    "\n",
    "            case _:\n",
    "                print(f'Не существует команды {command}! Попробуйте еще раз.')\n",
    "                print(menu)\n",
    "\n",
    "        if not correct_index:\n",
    "            print('Вы указали некорректное значение индекса! Попробуйте еще раз.')\n",
    "        print()\n",
    "print('Завершение работы программы')"
   ]
  },
  {
   "cell_type": "code",
   "execution_count": null,
   "id": "d6c1740d-1a97-4b44-a054-068ec36d4785",
   "metadata": {},
   "outputs": [],
   "source": []
  }
 ],
 "metadata": {
  "kernelspec": {
   "display_name": "Python 3 (ipykernel)",
   "language": "python",
   "name": "python3"
  },
  "language_info": {
   "codemirror_mode": {
    "name": "ipython",
    "version": 3
   },
   "file_extension": ".py",
   "mimetype": "text/x-python",
   "name": "python",
   "nbconvert_exporter": "python",
   "pygments_lexer": "ipython3",
   "version": "3.11.5"
  }
 },
 "nbformat": 4,
 "nbformat_minor": 5
}
