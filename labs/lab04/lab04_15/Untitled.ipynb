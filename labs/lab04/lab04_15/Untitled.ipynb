{
 "cells": [
  {
   "cell_type": "markdown",
   "id": "7dbdd5cb-08ea-4480-9dc5-79e138511d4b",
   "metadata": {},
   "source": [
    "<h1>Петров Платон Дмитриевич</h1>\n",
    "<h1>Варинат 13</h1>"
   ]
  },
  {
   "cell_type": "markdown",
   "id": "798f7a89-5566-472b-b3c4-420d1c638447",
   "metadata": {},
   "source": [
    "---"
   ]
  },
  {
   "cell_type": "markdown",
   "id": "44f54a3b-a2a7-45d2-9445-6b1ce9b76b33",
   "metadata": {},
   "source": [
    "<h2>Цель работы</h2>"
   ]
  },
  {
   "cell_type": "markdown",
   "id": "c0414b1f-fa97-42c5-bf06-81d736b8615f",
   "metadata": {},
   "source": [
    "<ul>\n",
    "    <li>Изучение структуры данных «Циклические однонаправленные списки», а также основных операций над ними.\n",
    "\n",
    "</li>\n",
    "</ul>"
   ]
  },
  {
   "cell_type": "markdown",
   "id": "347daf47-dea0-4068-93aa-ad7f66ba58df",
   "metadata": {},
   "source": [
    "---"
   ]
  },
  {
   "cell_type": "markdown",
   "id": "752c212e-ccce-482e-93f6-483e62664d4c",
   "metadata": {},
   "source": [
    "<h2>Общее задание</h2>"
   ]
  },
  {
   "cell_type": "markdown",
   "id": "47edc305-d692-4e90-beb3-f7e18f093d7c",
   "metadata": {},
   "source": [
    "<h3>Определение вспомогательного класса <code>Node</code> и <code>CircularList</code></h3>"
   ]
  },
  {
   "cell_type": "code",
   "execution_count": 1,
   "id": "be6e2119-2a6b-461e-bcf8-79d293104a6a",
   "metadata": {},
   "outputs": [],
   "source": [
    "class Node:\n",
    "    def __init__(self, val=None):\n",
    "        self.val = val\n",
    "        self.next = None\n",
    "\n",
    "    def __str__(self) -> str:\n",
    "        return str(self.val)\n",
    "\n",
    "\n",
    "class CircularList():\n",
    "    def __init__(self, node=Node):\n",
    "        self.head = None"
   ]
  },
  {
   "cell_type": "markdown",
   "id": "dc91427c-3b37-4995-a76b-d55968ccf10d",
   "metadata": {},
   "source": [
    "<h3>Переопрелённые базовые методы для класса <code>CircularList</code></h3>"
   ]
  },
  {
   "cell_type": "code",
   "execution_count": 2,
   "id": "f2775c54-badd-4e87-ac7b-c371ceead25a",
   "metadata": {},
   "outputs": [],
   "source": [
    "def __len__(self) -> int:\n",
    "        cur = self.head\n",
    "        if self.head is None:\n",
    "            return 0\n",
    "\n",
    "        if self.head.next is None:\n",
    "            return 1\n",
    "\n",
    "        len = 1\n",
    "        while cur.next != self.head:\n",
    "            len += 1\n",
    "            cur = cur.next\n",
    "        return len"
   ]
  },
  {
   "cell_type": "markdown",
   "id": "104e7236-30e9-46f5-9b7f-5638f0fc90ff",
   "metadata": {},
   "source": [
    "<h3>Вставка в начало линейного циклического списка</h3>"
   ]
  },
  {
   "cell_type": "code",
   "execution_count": 3,
   "id": "12a7fab0-e163-4e92-9a01-c9233f74f0bf",
   "metadata": {},
   "outputs": [],
   "source": [
    "def push_front(self, val):\n",
    "    new_node = Node(val)\n",
    "    if self.head is None:\n",
    "        self.head = new_node\n",
    "        return\n",
    "    if len(self) == 1:\n",
    "        new_node.next = self.head\n",
    "        self.head.next = new_node\n",
    "        self.head = new_node\n",
    "\n",
    "    curr_node = self.head\n",
    "    for i in range(len(self) - 1):\n",
    "        curr_node = curr_node.next\n",
    "    curr_node.next = new_node\n",
    "    new_node.next = self.head\n",
    "    self.head = new_node"
   ]
  },
  {
   "cell_type": "markdown",
   "id": "526541a8-ca25-4947-965f-dc621b5ffc91",
   "metadata": {},
   "source": [
    "<h3>Вставка перед указанным значением</h3>\n"
   ]
  },
  {
   "cell_type": "code",
   "execution_count": 4,
   "id": "3aec4865-d7e4-4142-bebe-be27604435b4",
   "metadata": {},
   "outputs": [],
   "source": [
    "def insertBeforeValue(self, val, reach):\n",
    "    new_node = Node(val)\n",
    "    curr = self.head\n",
    "    index = 0\n",
    "    while curr.next.val != reach:\n",
    "        curr = curr.next\n",
    "        index += 1\n",
    "        if index > len(self):\n",
    "            raise RuntimeError(f\"List doest have node with value {reach}\")\n",
    "    next_node = curr.next\n",
    "    curr.next = new_node\n",
    "    new_node.next = next_node"
   ]
  },
  {
   "cell_type": "markdown",
   "id": "d4649c12-f180-4368-8cb2-4bdc07a585b5",
   "metadata": {},
   "source": [
    "<h3>Вставка после указанного значения</h3>"
   ]
  },
  {
   "cell_type": "code",
   "execution_count": 5,
   "id": "3a7ec202-f190-4384-8e0d-c42980323ae1",
   "metadata": {},
   "outputs": [],
   "source": [
    " def insertAfterValue(self, val, reach):\n",
    "    new_node = Node(val)\n",
    "    curr = self.head\n",
    "    index = 0\n",
    "    while curr.val != reach:\n",
    "        curr = curr.next\n",
    "        index += 1\n",
    "        if index > len(self):\n",
    "            raise RuntimeError(f\"List doest have node with value {reach}\")\n",
    "    next_node = curr.next\n",
    "    curr.next = new_node\n",
    "    new_node.next = next_node"
   ]
  },
  {
   "cell_type": "markdown",
   "id": "dc5b0c6c-219e-4ca4-a6b4-3b98b6af083e",
   "metadata": {},
   "source": [
    "<h3>Вставка элемента в конец списка\n",
    "</h3>"
   ]
  },
  {
   "cell_type": "code",
   "execution_count": 6,
   "id": "10e14db9-6ec3-4974-a22a-5ae7f4ad8ef1",
   "metadata": {},
   "outputs": [],
   "source": [
    "def push_back(self, val):\n",
    "    new_node = Node(val)\n",
    "    if self.head is None:\n",
    "        self.head = new_node\n",
    "        return\n",
    "\n",
    "    if len(self) == 1:\n",
    "        self.head.next = new_node\n",
    "        new_node.next = self.head\n",
    "        return\n",
    "\n",
    "    curr_node = self.head\n",
    "    while curr_node.next != self.head:\n",
    "        curr_node = curr_node.next\n",
    "    curr_node.next = new_node\n",
    "    new_node.next = self.head"
   ]
  },
  {
   "cell_type": "markdown",
   "id": "44fd1bc7-0b35-4e64-8ea3-61bc4da8b93a",
   "metadata": {},
   "source": [
    "<h3>Удаление первого элемента списка</h3>"
   ]
  },
  {
   "cell_type": "code",
   "execution_count": 7,
   "id": "9de9121b-f83f-4e56-ad59-e58a7d151e87",
   "metadata": {},
   "outputs": [],
   "source": [
    "  def pop_front(self):\n",
    "    if self.head is None:\n",
    "        raise IndexError(\"Cannot pop_front empty list!\")\n",
    "\n",
    "    curr = self.head\n",
    "    while curr.next != self.head:\n",
    "        curr = curr.next\n",
    "    self.head = self.head.next\n",
    "    curr.next = self.head"
   ]
  },
  {
   "cell_type": "markdown",
   "id": "c1a08432-8f75-46d8-a4b4-da4e4eb1fe89",
   "metadata": {},
   "source": [
    "<h3>Удаление элемента, стоящего перед указанным значением</h3>"
   ]
  },
  {
   "cell_type": "code",
   "execution_count": 8,
   "id": "e7b926fa-b7a6-46a7-9861-30b1b26ae613",
   "metadata": {},
   "outputs": [],
   "source": [
    " def popBeforeValue(self, reach):\n",
    "    curr = self.head\n",
    "    index = 0\n",
    "    while curr.next.next.val != reach:\n",
    "        curr = curr.next\n",
    "        index += 1\n",
    "        if index > len(self):\n",
    "            raise RuntimeError(\"List doest have node with value {reach}\")\n",
    "    curr.next = curr.next.next"
   ]
  },
  {
   "cell_type": "markdown",
   "id": "e1461d35-64da-4044-be7c-28bcfe202a42",
   "metadata": {},
   "source": [
    "<h3>Удаление элемента, стоящего после указанного значения</h3>"
   ]
  },
  {
   "cell_type": "code",
   "execution_count": 9,
   "id": "9d5c4af7-b5db-4854-affc-99a6dfac210c",
   "metadata": {},
   "outputs": [],
   "source": [
    "def popAfterValue(self, reach):\n",
    "    curr = self.head\n",
    "    index = 0\n",
    "    while curr.val != reach:\n",
    "        curr = curr.next\n",
    "        index += 1\n",
    "        if index > len(self):\n",
    "            raise RuntimeError(\"List doest have node with value {reach}\")\n",
    "    curr.next = curr.next.next"
   ]
  },
  {
   "cell_type": "markdown",
   "id": "41a79aef-02c8-469d-a20a-590c542d1de9",
   "metadata": {},
   "source": [
    "<h3>Удаление элемента списка по значению</h3>"
   ]
  },
  {
   "cell_type": "code",
   "execution_count": 10,
   "id": "917cb01b-96ec-47c7-8dda-3eb5d021aa40",
   "metadata": {},
   "outputs": [],
   "source": [
    " def popValue(self, reach):\n",
    "    curr = self.head\n",
    "    index = 0\n",
    "    while curr.next.val != reach:\n",
    "        curr = curr.next\n",
    "        index += 1\n",
    "        if index > len(self):\n",
    "            raise RuntimeError(\"List doest have node with value {reach}\")\n",
    "    curr.next = curr.next.next"
   ]
  },
  {
   "cell_type": "markdown",
   "id": "95261144-3a45-47e6-acbb-599719cfbca0",
   "metadata": {},
   "source": [
    "<h3>Очистка списка</h3>"
   ]
  },
  {
   "cell_type": "code",
   "execution_count": 11,
   "id": "c4c520ed-4a58-43e3-b8d7-32568282998c",
   "metadata": {},
   "outputs": [],
   "source": [
    " def clear(self):\n",
    "    self.head = None"
   ]
  },
  {
   "cell_type": "markdown",
   "id": "5049337c-eca9-49cf-af3e-4e3c45851a9e",
   "metadata": {},
   "source": [
    "<h3>Поиск элемента списка по его значению</h3>"
   ]
  },
  {
   "cell_type": "code",
   "execution_count": 12,
   "id": "f65280e5-4be1-421e-94ca-70a5569ba9f7",
   "metadata": {},
   "outputs": [],
   "source": [
    "def index(self, val):\n",
    "    curr = self.head\n",
    "    for i in range(len(self)):\n",
    "        if curr.val == val:\n",
    "            return i\n",
    "        curr = curr.next\n",
    "    raise RuntimeError(f\"{val} is not in List\")"
   ]
  },
  {
   "cell_type": "markdown",
   "id": "267ef8f6-1e50-4868-9b0f-3f2fdec50c18",
   "metadata": {},
   "source": [
    "<h2>Реверс списка</h2>"
   ]
  },
  {
   "cell_type": "code",
   "execution_count": null,
   "id": "b7f353bb-8529-4d3c-97a0-a2d776d1dffb",
   "metadata": {},
   "outputs": [],
   "source": [
    "def reverse(self):\n",
    "    if self.head is None:\n",
    "        raise RuntimeError()\n",
    "    prev = None\n",
    "    curr = self.head\n",
    "    for i in range(len(self)):\n",
    "        next = curr.next\n",
    "        curr.next = prev\n",
    "        prev = curr\n",
    "        curr = next\n",
    "    self.head.next = prev\n",
    "    self.head = prev"
   ]
  },
  {
   "cell_type": "markdown",
   "id": "56e0f36d-69c8-4afc-a8c5-3f6ae8d23aac",
   "metadata": {},
   "source": [
    "<h3>Приложение для работы со списком\n",
    "</h3>"
   ]
  },
  {
   "cell_type": "markdown",
   "id": "c7f71e41-aae9-405c-aa5c-bc4df29b651d",
   "metadata": {},
   "source": [
    "---"
   ]
  },
  {
   "cell_type": "code",
   "execution_count": null,
   "id": "85c07eda-1d40-4d74-bc83-57fa362f75fb",
   "metadata": {},
   "outputs": [],
   "source": [
    "lst = CircularList()\n",
    "print(\"1 - Вставка в начало\",\n",
    "      \"2 - Вставка в конец\",\n",
    "      \"3 - Вставка до определённого значения\",\n",
    "      \"4 - Вставка после определённого значения\",\n",
    "      \"5 - Удаление по значению\",\n",
    "      \"6 - Удаление до определённого значения\",\n",
    "      \"7 - Удаление после определённого значения\",\n",
    "      \"8 - Удаление певрого элемета\",\n",
    "      \"9 - удаление последнего элемента\",\n",
    "      \"10 - Реверс списка\",\n",
    "      \"11 - Поиск индекса по значению\",\n",
    "      \"12 - Задание 1\",\n",
    "      \"13 - Задание 2\",\n",
    "      \"14 - Очистка списка\",\n",
    "      \"0 - Вывод списка в поток\",\n",
    "      sep='\\n')\n",
    "while True:\n",
    "    command = int(input(\"Введите команду: \"))\n",
    "    match command:\n",
    "        case 1:\n",
    "            val = int(input(\"Введите значение: \"))\n",
    "            lst.push_front(val)\n",
    "        case 2:\n",
    "            val = int(input(\"Введите значение: \"))\n",
    "            lst.push_back(val)\n",
    "        case 3:\n",
    "            reach = int(input(\"Введите значение, до которого нужно вставить элемент: \"))\n",
    "            val = int(input(\"Введите значение: \"))\n",
    "            lst.insertBeforeValue(val, reach)\n",
    "        case 4:\n",
    "            reach = int(input(\"Введите значение, после которого которого нужно вставить элемент: \"))\n",
    "            val = int(input(\"Введите значение: \"))\n",
    "            lst.insertAfterValue(val, reach)\n",
    "        case 5:\n",
    "            reach = int(input(\"Введите значение, которое нужно удалить из списка: \"))\n",
    "            lst.popValue(reach)\n",
    "        case 6:\n",
    "            reach = int(input(\"Ввдите значение, до которого нужно удалить элменет\"))\n",
    "            lst.popBeforeValue(reach)\n",
    "        case 7:\n",
    "            reach = int(input(\"Введите значение, после которого нужно удалить элемент\"))\n",
    "            lst.popAfterValue(reach)\n",
    "        case 8:\n",
    "            lst.pop_front()\n",
    "        case 9:\n",
    "            lst.pop_back()\n",
    "        case 10:\n",
    "            lst.reverse()\n",
    "        case 11:\n",
    "            val = int(input(\"Введите значение: \"))\n",
    "            print(lst.index(val))\n",
    "        case 12:\n",
    "            print(f\"Первоначальный лист:\\n{lst}\")\n",
    "            print(f\"Получившийся лист:\\n{task1(lst)} \")\n",
    "        case 13:\n",
    "            odd, even = task2(lst)\n",
    "            print(f\"Cписок нечётных элементов {odd}\")\n",
    "            print(f\"Cписок чётных элементов {even}\")\n",
    "        case 14:\n",
    "            lst.clear()\n",
    "        case 0:\n",
    "            print(lst)\n",
    "            sleep(2)\n",
    "        case _:\n",
    "            print(\"Несуществующая команда!\")\n"
   ]
  },
  {
   "cell_type": "markdown",
   "id": "a99da10c-a150-4778-839b-84e07f54dbe1",
   "metadata": {},
   "source": [
    "<h2>Индивидуальное задание</h2>\n"
   ]
  },
  {
   "cell_type": "markdown",
   "id": "ee715821-e44c-4892-af54-6499618a788b",
   "metadata": {},
   "source": [
    "---"
   ]
  },
  {
   "cell_type": "markdown",
   "id": "899c0cb0-463c-4d75-b82e-be7da0712b3f",
   "metadata": {},
   "source": [
    "<h3>Пусть имеется список действительных чисел $a_1 → a_2 → \\ldots → a_n$. Сформировать новый список $b_1 → b_2 → \\ldots → b_n$ такой же размерности по следующему правилу: элемент $b_k$ равен сумме элементов исходного списка с номерами от 1 до k.</h3>"
   ]
  },
  {
   "cell_type": "code",
   "execution_count": null,
   "id": "93a5506a-5845-485a-b6c7-5bd6d9f67332",
   "metadata": {},
   "outputs": [],
   "source": [
    "def task1(list: CircularList) -> CircularList:\n",
    "    if lst.head is None:\n",
    "        raise TypeError(\"List is empty!\")\n",
    "\n",
    "    result = CircularList()\n",
    "    for i in range(len(lst)):\n",
    "        curr = lst.head\n",
    "        sum = 0\n",
    "        for j in range(i):\n",
    "            sum += curr.val\n",
    "            curr = curr.next\n",
    "        result.push_back(sum)\n",
    "    return result"
   ]
  },
  {
   "cell_type": "markdown",
   "id": "622f7748-5b37-43fd-b01e-299b5e0ad2c8",
   "metadata": {},
   "source": [
    "<h3>Написать функцию, которая по списку <code>L</code> строит два новых списка: <code>L1</code> – из четных и <code>L2</code> – из нечетных элементов списка <code>L</code>.</h3>"
   ]
  },
  {
   "cell_type": "code",
   "execution_count": null,
   "id": "3821e71f-1270-4cc5-83c5-70be54be0bea",
   "metadata": {},
   "outputs": [],
   "source": [
    "def task2(list: CircularList) -> (CircularList, CircularList):\n",
    "    odd = CircularList()\n",
    "    even = CircularList()\n",
    "    curr = list.head\n",
    "    for i in range(len(list)):\n",
    "        if curr.val % 2 == 0:\n",
    "            even.push_back(curr.val)\n",
    "        else:\n",
    "            odd.push_back(curr.val)\n",
    "        curr = curr.next\n",
    "    return odd, even"
   ]
  },
  {
   "cell_type": "markdown",
   "id": "bf63f297-f168-4013-939d-d21549e53fba",
   "metadata": {},
   "source": [
    "---"
   ]
  },
  {
   "cell_type": "markdown",
   "id": "61ddcbda-d3e9-45c9-a649-1292635ce129",
   "metadata": {},
   "source": [
    "<h2>Ответы на контрольные вопросы</h2>\n",
    "\n"
   ]
  },
  {
   "cell_type": "markdown",
   "id": "77e99105-349d-4631-b3cb-4522e84d5e13",
   "metadata": {},
   "source": [
    "1. **Динамическая структура данных** - это структура данных, которая позволяет изменять размер и форму во время выполнения программы. Она может выделять или освобождать память по мере необходимости, что позволяет эффективно управлять данными.\n",
    "\n",
    "2. **Список** - это структура данных, представляющая собой упорядоченную последовательность элементов, каждый из которых содержит данные и ссылку на следующий элемент (или на предыдущий и следующий элементы в двусвязном списке). Списки позволяют хранить и манипулировать коллекциями данных.\n",
    "\n",
    "3. Виды списков:\n",
    "   - **Односвязный список**: каждый элемент содержит ссылку только на следующий элемент в списке.\n",
    "   - **Двусвязный список**: каждый элемент содержит ссылки на предыдущий и следующий элементы в списке.\n",
    "   - **Циклический список**: последний элемент списка ссылается на первый элемент, образуя замкнутую петлю.\n",
    "\n",
    "4. Основные операции над списком:\n",
    "   - **Вставка**: добавление элемента в список в указанном месте.\n",
    "   - **Удаление**: удаление элемента из списка.\n",
    "   - **Поиск**: нахождение элемента в списке по значению или индексу.\n",
    "   - **Обход**: перебор всех элементов списка для выполнения определенных действий.\n",
    "\n",
    "5. **Циклический список** - это специальный вид связанного списка, в котором последний элемент списка ссылается на первый элемент, образуя замкнутый цикл. Это означает, что обход списка можно начать с любого его элемента и продолжать доходить до исходного элемента.\n",
    "\n",
    "6. Классификация циклических списков:\n",
    "   - **Простой циклический список**: последний элемент ссылается только на первый элемент.\n",
    "   - **Двусвязный циклический список**: каждый элемент ссылается и на предыдущий, и на следующий элемент. Последний элемент ссылается на первый, и первый - на последний элемент.\n",
    "\n",
    "7. Основные операции над циклическим списком:\n",
    "   - **Вставка**: добавление элемента в список.\n",
    "   - **Удаление**: удаление элемента из списка.\n",
    "   - **Поиск**: нахождение элемента в списке.\n",
    "   - **Обход**: перебор всех элементов списка до исходного элемента."
   ]
  }
 ],
 "metadata": {
  "kernelspec": {
   "display_name": "Python 3 (ipykernel)",
   "language": "python",
   "name": "python3"
  },
  "language_info": {
   "codemirror_mode": {
    "name": "ipython",
    "version": 3
   },
   "file_extension": ".py",
   "mimetype": "text/x-python",
   "name": "python",
   "nbconvert_exporter": "python",
   "pygments_lexer": "ipython3",
   "version": "3.11.2"
  }
 },
 "nbformat": 4,
 "nbformat_minor": 5
}
