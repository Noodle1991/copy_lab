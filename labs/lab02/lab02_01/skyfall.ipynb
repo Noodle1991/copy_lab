{
 "cells": [
  {
   "cell_type": "markdown",
   "id": "ec5d9a5a-44b3-417b-a425-bb2458fbbf39",
   "metadata": {},
   "source": [
    "<h1>Акиньшин Никита Андреевич 1 Вариант </h1>\n"
   ]
  },
  {
   "cell_type": "markdown",
   "id": "dfa5513b-dc44-47db-8e8e-fbb52b71348f",
   "metadata": {},
   "source": [
    "---"
   ]
  },
  {
   "cell_type": "markdown",
   "id": "30c721b4-1db5-429a-89df-5d7c568e9d38",
   "metadata": {
    "jp-MarkdownHeadingCollapsed": true
   },
   "source": [
    "<h2>Структура Node для однонаправленного списка</h2>"
   ]
  },
  {
   "cell_type": "code",
   "execution_count": 5,
   "id": "0326d1a9-1be1-438d-ae99-3afc4befd285",
   "metadata": {},
   "outputs": [],
   "source": [
    "class Node:\n",
    "\n",
    "    def __init__(self, data, next=None):\n",
    "        self.data = data\n",
    "        self.next = next\n",
    "        self.size = 0\n",
    "\n",
    "    def getData(self):\n",
    "        return self.data\n",
    "\n",
    "    def setData(self, data):\n",
    "        self.data = data\n",
    "\n",
    "    def getNextNode(self):\n",
    "        return self.next\n",
    "\n",
    "    def setNextNode(self, node):\n",
    "        self.next = node\n"
   ]
  },
  {
   "cell_type": "markdown",
   "id": "f57c940f-744b-4c96-8c84-d2dbef749fbc",
   "metadata": {
    "jp-MarkdownHeadingCollapsed": true
   },
   "source": [
    "<h2>Вставка элемента в линейный однонаправленный список (в начало, середину, конец)</h2>"
   ]
  },
  {
   "cell_type": "code",
   "execution_count": 6,
   "id": "04c657c7-21b2-4322-abdc-343d15ce4d0d",
   "metadata": {},
   "outputs": [],
   "source": [
    "    def push_back(self, data):\n",
    "        new_node = Node(data)\n",
    "        if self.head is None:\n",
    "            self.head = new_node\n",
    "        else:\n",
    "            current = self.head\n",
    "            while current.next:\n",
    "                current = current.next\n",
    "            current.next = new_node\n",
    "            self.size += 1\n",
    "\n",
    "    def push_front(self, data):\n",
    "        new_node = Node(data)\n",
    "        new_node.next = self.head\n",
    "        self.head = new_node\n",
    "        self.size += 1\n",
    "\n",
    "    def insert_at_middle(self, data):\n",
    "        if self.head is None:\n",
    "            self.add(data)\n",
    "        else:\n",
    "            middle_index = self.size // 2\n",
    "            current_node = self.head\n",
    "            for _ in range(middle_index - 1):\n",
    "                current_node = current_node.next\n",
    "            new_node = Node(data)\n",
    "            new_node.next = current_node.next\n",
    "            current_node.next = new_node\n",
    "            self.size += 1"
   ]
  },
  {
   "cell_type": "markdown",
   "id": "bf554c34-1d37-4de4-b4ff-9566307e0847",
   "metadata": {
    "jp-MarkdownHeadingCollapsed": true
   },
   "source": [
    "<h2>Просмотр линейного однонаправленного списка</h2>"
   ]
  },
  {
   "cell_type": "code",
   "execution_count": 7,
   "id": "0f98563a-4706-4353-a40d-24299d350954",
   "metadata": {},
   "outputs": [],
   "source": [
    "    def printLL(self):\n",
    "        curr = self.head\n",
    "        while curr:\n",
    "            print(curr.data)\n",
    "            curr = curr.getNextNode()"
   ]
  },
  {
   "cell_type": "markdown",
   "id": "c83d0b49-899c-42f5-a759-3b3d0ba630e1",
   "metadata": {
    "jp-MarkdownHeadingCollapsed": true
   },
   "source": [
    "<h2>Поиск элемента в линейном однонаправленном списке(по индексу и по значению)</h2>"
   ]
  },
  {
   "cell_type": "code",
   "execution_count": 8,
   "id": "1fdb4d06-2a9a-4223-aff0-3359dac60e1c",
   "metadata": {},
   "outputs": [],
   "source": [
    "    def findNode(self, value):\n",
    "        curr = self.head\n",
    "        while curr:\n",
    "            if curr.getData() == value:\n",
    "                return True\n",
    "            else:\n",
    "                curr = curr.getNextNode()\n",
    "        return False\n",
    "\n",
    "    def at(self, index):\n",
    "        if index < 0 and index >= self.size:\n",
    "            raise Exception(\"Недопустимый индекс\")\n",
    "        current = self.head\n",
    "        count = 0\n",
    "        while count < index:\n",
    "            current = current.next\n",
    "            count += 1\n",
    "        return current\n",
    "\n",
    "\n"
   ]
  },
  {
   "cell_type": "markdown",
   "id": "cb5e6aee-b689-47fb-b1ec-5cfd351ddb57",
   "metadata": {
    "jp-MarkdownHeadingCollapsed": true
   },
   "source": [
    "<h2>Удаление элемента из линейного однонаправленного списка (из начала, середины, конца)</h2>"
   ]
  },
  {
   "cell_type": "code",
   "execution_count": 11,
   "id": "1a360b76-a188-4286-8a0f-f499d870c5b2",
   "metadata": {},
   "outputs": [],
   "source": [
    " def pop_front(self):\n",
    "        if not self.head:\n",
    "            print(\"Список пуст\")\n",
    "            return None\n",
    "        value = self.head.data\n",
    "        self.head = self.head.next\n",
    "        self.size -= 1\n",
    "        return value\n",
    "\n",
    " def pop_back(self):\n",
    "        if not self.head:\n",
    "            print(\"Список пуст\")\n",
    "            return None\n",
    "        value = self.head.data\n",
    "        if not self.head.next:\n",
    "            self.head = None\n",
    "            return None\n",
    "        current_node = self.head\n",
    "        while current_node.next.next:\n",
    "            current_node = current_node.next\n",
    "        current_node.next = None\n",
    "        self.size -= 1\n",
    "        return value\n",
    "\n",
    " def pop(self, index):\n",
    "        if index == 0:\n",
    "            return self.pop_front()\n",
    "        elif index == self.size - 1:\n",
    "            return self.pop_back()\n",
    "        elif index < 0 or index >= self.size:\n",
    "            print('wrong index')\n",
    "\n",
    "        else:\n",
    "            tmp_node = self.head\n",
    "            for i in range(index - 1):\n",
    "                tmp_node = tmp_node.next\n",
    "                remote_node = tmp_node.next\n",
    "            value = remote_node.data\n",
    "            tmp_node.next_ = remote_node.next\n",
    "            self.size -= 1\n",
    "            return value"
   ]
  },
  {
   "cell_type": "markdown",
   "id": "0edc5881-e96b-4f81-be85-0aeba3104d59",
   "metadata": {
    "jp-MarkdownHeadingCollapsed": true
   },
   "source": [
    "<h2>Реверс списка (переворачивание списка задом на перед)</h2>"
   ]
  },
  {
   "cell_type": "code",
   "execution_count": 12,
   "id": "9afc6ee7-90a4-4796-8439-b7771620604e",
   "metadata": {},
   "outputs": [],
   "source": [
    "    def reverse(self):\n",
    "        prev = None\n",
    "        current = self.head\n",
    "        while current:\n",
    "            next_node = current.next\n",
    "            current.next = prev\n",
    "            prev = current\n",
    "            current = next_node\n",
    "        self.head = prev"
   ]
  },
  {
   "cell_type": "markdown",
   "id": "95bb6150-e228-4ef8-a380-f493cc442c25",
   "metadata": {},
   "source": [
    "---"
   ]
  },
  {
   "cell_type": "markdown",
   "id": "6420b976-b16a-45af-aee1-8a0a82f3f7c9",
   "metadata": {},
   "source": [
    "<h2>2. Реализовать приложение, для работы со списком, которое реализует следующий набор действий:\r\n",
    "\r\n",
    "а) инициализация пустого линейного однонаправленного списка;\r\n",
    "\r\n",
    "б) организация диалогового цикла с пользователем;</h2>"
   ]
  },
  {
   "cell_type": "markdown",
   "id": "13b84d6c-8757-44f6-88f2-6fb7e50e85b2",
   "metadata": {},
   "source": [
    "<code>my_list = LinkedList()<code>"
   ]
  },
  {
   "cell_type": "code",
   "execution_count": null,
   "id": "64c7befb-d062-4e04-be5b-c0cbe349f135",
   "metadata": {},
   "outputs": [],
   "source": [
    "while True:\n",
    "    print(\"Выберите действие:\")\n",
    "    print(\"1. Добавить элемент\")\n",
    "    print(\"2. Вывести список\")\n",
    "    print(\"3. Выйти\")\n",
    "    print(\"4. Перевернуть список\")\n",
    "    print(\"5. Удалить элемент с конца\")\n",
    "    print(\"6. Удалить элемент с начала\")\n",
    "    print(\"7. Удалить элемент по индексу\")\n",
    "    print(\"8. Найти количество максимального элементов списка действительных чисел\")\n",
    "    print(\"9. Продублировать все простые числа\")\n",
    "\n",
    "    choice = input(\"Введите номер действия: \")\n",
    "\n",
    "    if choice == '1':\n",
    "        data = int(input(\"Введите элемент для добавления: \"))\n",
    "        my_list.push_back(data)\n",
    "        print(\"Элемент добавлен в список.\")\n",
    "    elif choice == '2':\n",
    "        print(\"Содержимое списка:\")\n",
    "        my_list.printLL()\n",
    "    elif choice == '3':\n",
    "        print(\"Выход из программы.\")\n",
    "        break\n",
    "    elif choice == '4':\n",
    "        print(\"Перевернутый список:\")\n",
    "        my_list.reverse()\n",
    "        my_list.printLL()\n",
    "    elif choice == '5':\n",
    "        my_list.pop_back()\n",
    "    elif choice == '6':\n",
    "        my_list.pop_front()\n",
    "    elif choice == '7':\n",
    "        index = int(input(\"Введите индекс: \"))\n",
    "        my_list.pop(index)\n",
    "    elif choice == '8':\n",
    "        print(\" Количество максимальных элементов = \", my_list.count_max_elements())\n",
    "    elif choice == '9':\n",
    "        my_list.duplicate_primes()\n",
    "        my_list.printLL()\n",
    "\n",
    "    else:\n",
    "        print(\"Неверный выбор. Попробуйте еще раз.\")"
   ]
  },
  {
   "cell_type": "markdown",
   "id": "c3bc8328-5053-41c2-894c-de254e1a4597",
   "metadata": {
    "jp-MarkdownHeadingCollapsed": true
   },
   "source": [
    "<h2>3 Реализовать индивидуальное задание</h2>"
   ]
  },
  {
   "cell_type": "markdown",
   "id": "b6898454-86ef-4961-8c3b-7b1ce26999f2",
   "metadata": {},
   "source": [
    "---"
   ]
  },
  {
   "cell_type": "markdown",
   "id": "db1b0767-520f-4c02-b42d-ad04dc93b744",
   "metadata": {},
   "source": [
    "<ul>\n",
    " <li>Найти количество максимальных элементов списка действительных чисел.</li> \n",
    " <li>Дан список целых чисел. Продублировать в нем все простые числа.</li>\n",
    "</ul>\n"
   ]
  },
  {
   "cell_type": "code",
   "execution_count": 17,
   "id": "2310567a-d591-4fa6-92cc-68b520de03a3",
   "metadata": {},
   "outputs": [],
   "source": [
    "    def count_max_elements(self):\n",
    "        if not self.head:\n",
    "            return 0\n",
    "\n",
    "        current = self.head\n",
    "        max_value = current.data\n",
    "        count = 1\n",
    "\n",
    "        while current.next:\n",
    "            current = current.next\n",
    "            if current.data == max_value:\n",
    "                count += 1\n",
    "            elif current.data > max_value:\n",
    "                max_value = current.data\n",
    "                count = 1  # Начинаем считать снова, если найден более большой элемент\n",
    "\n",
    "        return count\n",
    "\n"
   ]
  },
  {
   "cell_type": "code",
   "execution_count": 18,
   "id": "5f70a600-13a6-4eda-b18d-f22787856eae",
   "metadata": {},
   "outputs": [],
   "source": [
    "    def is_prime(self, num: int):\n",
    "        if num < 2:\n",
    "            return False\n",
    "        for i in range(2, int(num ** 0.5) + 1):\n",
    "            if num % i == 0:\n",
    "                return False\n",
    "        return True\n",
    "\n",
    "    def duplicate_primes(self):\n",
    "        current = self.head\n",
    "        while current:\n",
    "            if self.is_prime(current.data):\n",
    "                new_node = Node(current.data)\n",
    "                new_node.next = current.next\n",
    "                current.next = new_node\n",
    "                current = current.next.next\n",
    "            else:\n",
    "                current = current.next"
   ]
  },
  {
   "cell_type": "markdown",
   "id": "f22b4952-8fce-4bcb-a91c-1db3218b1556",
   "metadata": {},
   "source": [
    "---\n"
   ]
  },
  {
   "cell_type": "markdown",
   "id": "2d11ae68-084b-4774-b97e-1ef31c28b2f0",
   "metadata": {
    "jp-MarkdownHeadingCollapsed": true
   },
   "source": [
    "<h2>Ответы на контрольные вопросы</h2>\n"
   ]
  },
  {
   "cell_type": "markdown",
   "id": "53174646-9f18-496a-bc83-6649cf0db2b7",
   "metadata": {},
   "source": [
    "<h4>1.Динамическая структура данных - это структура данных, которая позволяет изменять свой размер в процессе выполнения программы.</h4></li>\n",
    "</ol>"
   ]
  },
  {
   "cell_type": "markdown",
   "id": "917b14fe-66a7-41da-ba80-85e1e6bfa29f",
   "metadata": {},
   "source": [
    "<h4>2. Список - это упорядоченная коллекция элементов, которая может быть изменена.</h4>\n"
   ]
  },
  {
   "cell_type": "markdown",
   "id": "a3878173-b91d-41bc-b878-ca5dfca22f53",
   "metadata": {},
   "source": [
    "<h4>3. Наиболее распространенные виды списков:\r\n",
    "   - Однонаправленный список (Singly Linked List)\r\n",
    "   - Двунаправленный список (Doubly Linked List)\r\n",
    "   - Кольцевой список (Circular Linked List)\r\n",
    "   - Список на массиве (Array-based List)</h4>"
   ]
  },
  {
   "cell_type": "markdown",
   "id": "81f762a6-873a-4d0e-8b68-ededd93ba278",
   "metadata": {},
   "source": [
    "<h4>4. Основные операции над списком:\r\n",
    "   - Добавление элемента (в начало, в конец, по индексу)\r\n",
    "   - Удаление элемента (из начала, из конца, по индексу)\r\n",
    "   - Поиск элемента (по значению, по индексу)</h4>"
   ]
  },
  {
   "cell_type": "markdown",
   "id": "f56e0ccc-fa65-4d12-a861-564f97921be6",
   "metadata": {},
   "source": [
    "<h4>5. Операция вставки первого элемента выполняется за константное время O(1), так как просто меняется ссылка на новый элемент.\r\n",
    "   Операция вставки не первого элемента требует поиска места вставки и изменения ссылок на предыдущий и следующий элементы,\r\n",
    "   поэтому время выполнения зависит от размера списка и обычно составляет O(n), где n - количество элементов в списке.</h4>"
   ]
  },
  {
   "cell_type": "markdown",
   "id": "6fd6bb9a-3361-4d5d-b0f7-d3d8b638e816",
   "metadata": {},
   "source": [
    "<h4>6. Операция удаления первого элемента выполняется за константное время O(1), так как просто меняется ссылка на следующий элемент.\r\n",
    "   Операция удаления не первого элемента также требует поиска места удаления и изменения ссылок на предыдущий и следующий элементы,\r\n",
    "   поэтому время выполнения составляет O(n), где n - количество элементов в списке.</h4>"
   ]
  },
  {
   "cell_type": "code",
   "execution_count": null,
   "id": "a096e870-0144-4ab2-a9dc-da39b9eb58c6",
   "metadata": {},
   "outputs": [],
   "source": []
  }
 ],
 "metadata": {
  "kernelspec": {
   "display_name": "Python 3 (ipykernel)",
   "language": "python",
   "name": "python3"
  },
  "language_info": {
   "codemirror_mode": {
    "name": "ipython",
    "version": 3
   },
   "file_extension": ".py",
   "mimetype": "text/x-python",
   "name": "python",
   "nbconvert_exporter": "python",
   "pygments_lexer": "ipython3",
   "version": "3.11.5"
  }
 },
 "nbformat": 4,
 "nbformat_minor": 5
}
