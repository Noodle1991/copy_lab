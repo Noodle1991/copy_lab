{
 "cells": [
  {
   "cell_type": "markdown",
   "id": "c3df06f9-cc35-4f68-8adc-2d65d0be5e14",
   "metadata": {},
   "source": [
    "<h1>Лабораторная работа №2<br>\n",
    "    \"Линейные однонаправленные списки (Singly Linked Lists)\"</h1>\n",
    "    \n",
    "<h3>Цель работы</h3>\n",
    "    Изучение структуры данных «линейные однонаправленные списки», а также основных операций над ними.\n",
    "\n",
    "<br>\n",
    "<br>\n",
    "\n",
    "<h3>Задачи лабораторной работы</h3>\n",
    "\n",
    "<ol>\n",
    "    <li><b>Реализовать линейный однонаправленный спискок, соответствующий требованиям:</b></li>\n",
    "    <ul>\n",
    "        <li>список должен быть реализован в виде класса;</li>\n",
    "        <li>каждая операция должна быть реализована как метод класса;</li>\n",
    "        <li>добавлению/удалению должна предшествовать проверка возможности выполнения этих операций;</li>\n",
    "    </ul>\n",
    "    <br>\n",
    "    <li><b>Реализовать программу, выполняющую стандартный набор операций с линейным однонаправленным списком:</b></li>\n",
    "    <ul>\n",
    "        <li>вставка элемента в линейный однонаправленный список (в начало, середину, конец);</li>\n",
    "        <li>просмотр линейного однонаправленного списка;</li>\n",
    "        <li>поиск элемента в линейном однонаправленном списке;</li>\n",
    "        <li>удаление элемента из линейного однонаправленного списка (из начала, середины, конца);</li>\n",
    "        <li>реверс списка (переворачивание списка задом на перед);</li>\n",
    "    </ul>\n",
    "    <br>\n",
    "    <li><b>Реализовать приложение, для работы со списком, которое реализует следующий набор действий:</b></li>\n",
    "    <ul>\n",
    "        <li>инициализация пустого линейного однонаправленного списка;</li>\n",
    "        <li>организация диалогового цикла с пользователем;</li>\n",
    "    </ul>\n",
    "    <br>\n",
    "    <li><b>Реализовать индивидуальное задание:</b></li>\n",
    "    <ul>\n",
    "        <li>Написать функцию, которая оставляет в списке L только первые вхождения одинаковых элементов;</li>\n",
    "        <li>Вычислите среднее арифметическое элементов непустого списка;</li>\n",
    "    </ul>\n",
    "</ol>\n",
    "\n",
    "<br>\n",
    "\n",
    "<h3>Listing</h3>\n",
    "\n",
    "<h5>Список</h5>\n",
    "\n",
    "```python\n",
    "class SinglyLinkedListException(Exception):\n",
    "    def __init__(self, *args):\n",
    "\n",
    "    def __str__(self):\n",
    "\n",
    "\n",
    "class Node:\n",
    "    def __init__(self, data=None, next_node=None):\n",
    "\n",
    "\n",
    "class SinglyLinkedList:\n",
    "    def __init__(self):\n",
    "        # Инизиализация списка\n",
    "\n",
    "    def push_front(self, data):\n",
    "        # Добавление элемента в начало списка\n",
    "\n",
    "    def pop_front(self):\n",
    "        # Удаление элемента из начала списка\n",
    "\n",
    "    def __str__(self):\n",
    "        # Вывод списка в поток\n",
    "\n",
    "    def push_back(self, data):\n",
    "        # Добавление элемента в конец списка\n",
    "\n",
    "    def pop_back(self):\n",
    "        # Удаление элемента из конца списка\n",
    "\n",
    "    def __getitem__(self, index):\n",
    "        # Вывод элемента списка по индексу\n",
    "\n",
    "    def insert(self, data, index):\n",
    "        # Добавление элемента в список по индексу\n",
    "\n",
    "    def pop(self, index):\n",
    "        # Удаление элемента по индексу\n",
    "\n",
    "    def clear(self):\n",
    "        # Очистка списка\n",
    "\n",
    "    def index(self, data):\n",
    "        # Поиск элемента по значению\n",
    "\n",
    "    def reverse(self):\n",
    "        # Реверс списка\n",
    "\n",
    "    def set(self):\n",
    "        # Функция, оставляющая в списке только первые вхождения одинаковых элементов\n",
    "\n",
    "    def mean(self):\n",
    "        # Поиск среднего арифметического элементов списка\n",
    "```\n",
    "\n",
    "<br>\n",
    "\n",
    "<h5>Меню взаимодействия с пользователем</h5>\n",
    "\n",
    "```python\n",
    "    case 0: # Завершить программу\n",
    "        # Ввод подтверждения\n",
    "                    \n",
    "    case 1: # Вывести список в чат\n",
    "        # Выполнение команды\n",
    "                    \n",
    "    case 2: # Добавить элемент в начало списка\n",
    "        # Ввод значения элемента\n",
    "        # Приведение типов\n",
    "        # Выполнение команды\n",
    "                    \n",
    "    case 3: # Добавить элемент в середину списка\n",
    "        # Ввод индекса\n",
    "        # Ввод значения элемента\n",
    "        # Проверка правильности введенного индекса\n",
    "        # Приведение типов\n",
    "        # Выполнение команды\n",
    "                        \n",
    "    case 4: # Добавить элемент в конец списка\n",
    "        # Ввод значения элемента\n",
    "        # Приведение типов\n",
    "        # Выполнение команды\n",
    "                    \n",
    "    case 5: # Удалить элемент из начала списка\n",
    "        # Выполнение команды\n",
    "                    \n",
    "    case 6: # Удалить элемент из середины списка\n",
    "        # Ввод индекса\n",
    "        # Проверка правильности введенного индекса\n",
    "        # Выполнение команды\n",
    "                        \n",
    "    case 7: # Удалить элемент из конца списка\n",
    "        # Выполнение команды\n",
    "                    \n",
    "    case 8: # Очистить список\n",
    "        # Выполнение команды\n",
    "                    \n",
    "    case 9: # Вывести значение по индексу\n",
    "        # Ввод индекса\n",
    "        # Проверка правильности введенного индекса\n",
    "        # Выполнение команды\n",
    "                        \n",
    "    case 10: # Вывести индекс элемента по значению\n",
    "        # Ввод значения элемента\n",
    "        # Приведение типов\n",
    "        # Выполнение команды\n",
    "\n",
    "    case 11: # Реверсировать список\n",
    "        # Выполнение команды\n",
    "\n",
    "    case 12: # Оставить в списке первое вхождение одинаковых элементов\n",
    "        # Выполнение команды\n",
    "\n",
    "    case 13: # Вывести среднее арифметическое списка\n",
    "        # Выполнение команды\n",
    "\n",
    "    case 14: # Вывести меню с командами\n",
    "        # Выполнение команды\n",
    "\n",
    "    case _:\n",
    "        # Вывод сообщения о несуществовании команды\n",
    "```\n",
    "\n",
    "<br>\n",
    "\n",
    "<h3>Вывод</h3>\n",
    "Во время выполнения лабораторной работы:\n",
    "<ul>\n",
    "    <li>изучен материал о структуре данных \"линейный однонаправленный список\"</li>\n",
    "    <li>написана собственная реализация однонаправленного списока и вспомогательных классов</li>\n",
    "    <li>реализована программа выполнения стандартных методов с линейным однонаправленным списком</li>\n",
    "    <li>реализовано консолькое приложение для осуществления диалогового цикла с пользователем</li>\n",
    "\n",
    "</ul>\n",
    "<br>\n",
    "\n",
    "<h3>Контрольные вопросы</h3>\n",
    "<ol>\n",
    "    <li><b>Что такое динамическая структура данных?</b></li>\n",
    "    Динамическая структура данных – это структура данных, память под которую изменяется (выделяется и освобождается) во время выполнения программы, а не в момент ее запуска.\n",
    "    <li><b>Что такое список?</b></li>\n",
    "    Список – это набор связанных элементов, в котором каждый элемент определяет следующий (и предыдущий) элемент.\n",
    "    <li><b>Какие виды списков существуют?</b></li>\n",
    "    <ul>\n",
    "        <li>Линейные однонаправленные</li>\n",
    "        <li>Линейные двунаправленные</li>\n",
    "        <li>Линейные циклические однонаправленные</li>\n",
    "        <li>Линейные циклические двунаправленные</li>\n",
    "    </ul>\n",
    "    <li><b>Какие основные операции выполняются над списком?</b></li>\n",
    "    <ul>\n",
    "        <li>Добавление элемента</li>\n",
    "        <li>Удаление элемента</li>\n",
    "        <li>Просмотр элементов</li>\n",
    "        <li>Поиск элемента с заданным ключом</li>\n",
    "    </ul>\n",
    "    <li><b>Особенности выполнения операций вставки первого и не первого элемента.</b></li>\n",
    "    Вставка первого элемента осуществляется за константное время (т.е. $O(1)$), для выполнения действия необходимо иметь указатель на начало списка (head_). Сложность вставки не первого элемента является линейной - $O(n)$. Для вставки необходимо \"передвигаться\" по элементам до нужной позиции.\n",
    "    <li><b>Особенности выполнения операций удаления первого и не первого элемента.</b></li>\n",
    "    Удаление первого элемента осуществляется за константное время (т.е. $O(1)$), для выполнения действия необходимо иметь указатель на начало списка (head_) и на следующий элемент (т.е. на второй). Сложность удаление не первого элемента является линейной - $O(n)$. Для вставки необходимо \"передвигаться\" по элементам до нужной позиции и временно сохранить указатели на 2 элемента, между которыми будет удален элемент.\n",
    "</ol>\n"
   ]
  },
  {
   "cell_type": "markdown",
   "id": "0724b8b8-25fa-423f-af76-3d9216d4b0d8",
   "metadata": {},
   "source": [
    "<h2>Реализация SinglyLinkedList и вспомогательных классов</h2>"
   ]
  },
  {
   "cell_type": "code",
   "execution_count": 6,
   "id": "d9373d68-b069-4d02-965b-483cc3205187",
   "metadata": {},
   "outputs": [],
   "source": [
    "class SinglyLinkedListException(Exception):\n",
    "    def __init__(self, *args):\n",
    "        if args:\n",
    "            self.message = args[0]\n",
    "        else:\n",
    "            self.message = None\n",
    "\n",
    "    def __str__(self):\n",
    "        if self.message:\n",
    "            return f'SinglyLinkedListException: {self.message}'\n",
    "        else:\n",
    "            return 'SinglyLinkedListException has been raised'\n",
    "\n",
    "\n",
    "class Node:\n",
    "    def __init__(self, data=None, next_node=None):\n",
    "        self.data_ = data\n",
    "        self.next_: Node = next_node\n",
    "\n",
    "\n",
    "class SinglyLinkedList:\n",
    "    def __init__(self):\n",
    "        self.size_ = 0\n",
    "        self.head_: Node = None\n",
    "\n",
    "    def push_front(self, data):\n",
    "        new_node = Node(data)\n",
    "        if not self.size_:\n",
    "            self.head_ = new_node\n",
    "        else:\n",
    "            new_node.next_ = self.head_\n",
    "            self.head_ = new_node\n",
    "        self.size_ += 1\n",
    "\n",
    "    def pop_front(self):\n",
    "        if not self.size_:\n",
    "            raise SinglyLinkedListException('list is empty')\n",
    "        else:\n",
    "            tmp_node = self.head_\n",
    "            self.head_ = tmp_node.next_\n",
    "            value = tmp_node.data_\n",
    "            self.size_ -= 1\n",
    "            return value\n",
    "\n",
    "    def __str__(self):\n",
    "        text = '['\n",
    "        if self.size_:\n",
    "            tmp_node = self.head_\n",
    "            while tmp_node:\n",
    "                text += str(tmp_node.data_)\n",
    "                tmp_node = tmp_node.next_\n",
    "                if tmp_node:\n",
    "                    text += ', '\n",
    "        text += ']'\n",
    "        return text\n",
    "\n",
    "    def push_back(self, data):\n",
    "        if not self.size_:\n",
    "            self.push_front(data)\n",
    "        else:\n",
    "            tmp_node = self.head_\n",
    "            while tmp_node.next_:\n",
    "                tmp_node = tmp_node.next_\n",
    "            tmp_node.next_ = Node(data)\n",
    "            self.size_ += 1\n",
    "\n",
    "    def pop_back(self):\n",
    "        if not self.size_:\n",
    "            raise SinglyLinkedListException('list is empty')\n",
    "        else:\n",
    "            if self.size_ == 1:\n",
    "                return self.pop_front()\n",
    "            tmp_node = self.head_\n",
    "            while tmp_node.next_.next_:\n",
    "                tmp_node = tmp_node.next_\n",
    "            value = tmp_node.next_.data_\n",
    "            tmp_node.next_ = None\n",
    "            self.size_ -= 1\n",
    "            return value\n",
    "\n",
    "    def __getitem__(self, index):\n",
    "        if index < 0:\n",
    "            index += self.size_\n",
    "        if index < 0 or index >= self.size_:\n",
    "            raise SinglyLinkedListException('wrong index')\n",
    "        else:\n",
    "            tmp_node = self.head_\n",
    "            for i in range(index):\n",
    "                tmp_node = tmp_node.next_\n",
    "            return tmp_node.data_\n",
    "\n",
    "    def insert(self, data, index):\n",
    "        if index == 0:\n",
    "            self.push_front(data)\n",
    "        elif index == self.size_:\n",
    "            self.push_back(data)\n",
    "        elif index < 0 or index > self.size_:\n",
    "            raise SinglyLinkedListException('wrong index')\n",
    "        else:\n",
    "            new_node = Node(data)\n",
    "            tmp_node = self.head_\n",
    "            for _ in range(index - 1):\n",
    "                tmp_node = tmp_node.next_\n",
    "            new_node.next_ = tmp_node.next_\n",
    "            tmp_node.next_ = new_node\n",
    "            self.size_ += 1\n",
    "\n",
    "    def pop(self, index):\n",
    "        if index == 0:\n",
    "            return self.pop_front()\n",
    "        elif index == self.size_ - 1:\n",
    "            return self.pop_back()\n",
    "        elif index < 0 or index >= self.size_:\n",
    "            raise SinglyLinkedListException('wrong index')\n",
    "        else:\n",
    "            tmp_node = self.head_\n",
    "            for i in range(index - 1):\n",
    "                tmp_node = tmp_node.next_\n",
    "            remote_node = tmp_node.next_\n",
    "            value = remote_node.data_\n",
    "            tmp_node.next_ = remote_node.next_\n",
    "            self.size_ -= 1\n",
    "            return value\n",
    "\n",
    "    def clear(self): \n",
    "        if self.head_:\n",
    "            self.head_ = None\n",
    "        self.size_ = 0\n",
    "\n",
    "    def index(self, data):\n",
    "        if not self.size_:\n",
    "            raise SinglyLinkedListException('list is empty')\n",
    "        else:\n",
    "            tmp_node = self.head_\n",
    "            count = 0\n",
    "            while tmp_node:\n",
    "                if tmp_node.data_ == data:\n",
    "                    return count\n",
    "                else:\n",
    "                    tmp_node = tmp_node.next_\n",
    "                    count += 1\n",
    "            else:\n",
    "                raise SinglyLinkedListException(f'{data} is not in SinglyLinkedList')\n",
    "\n",
    "    def reverse(self):\n",
    "        if self.size_:\n",
    "            prev_node = None\n",
    "            cur_node = self.head_\n",
    "            next_node = self.head_\n",
    "            while cur_node:\n",
    "                next_node = next_node.next_\n",
    "                cur_node.next_ = prev_node\n",
    "                prev_node = cur_node\n",
    "                cur_node = next_node\n",
    "            self.head_ = prev_node\n",
    "\n",
    "    def set(self):\n",
    "        unique_node = self.head_\n",
    "        while unique_node:\n",
    "            prev_node = unique_node\n",
    "            next_node = unique_node.next_\n",
    "            while next_node:\n",
    "                if unique_node.data_ != next_node.data_:\n",
    "                    prev_node.next_ = next_node\n",
    "                    prev_node = prev_node.next_\n",
    "                else:\n",
    "                    self.size_ -= 1\n",
    "                next_node = next_node.next_\n",
    "            prev_node.next_ = next_node\n",
    "            unique_node = unique_node.next_\n",
    "\n",
    "    def mean(self):\n",
    "        sum_of_items = 0\n",
    "        tmp_node = self.head_\n",
    "        while tmp_node:\n",
    "            if type(tmp_node.data_) is int or type(tmp_node.data_) is float:\n",
    "                sum_of_items += tmp_node.data_\n",
    "            else:\n",
    "                raise SinglyLinkedListException('list contains a non-numeric data type')\n",
    "            tmp_node = tmp_node.next_\n",
    "        return sum_of_items/self.size_"
   ]
  },
  {
   "cell_type": "markdown",
   "id": "c2dd0141-451e-465e-bf7e-c95df2268874",
   "metadata": {},
   "source": [
    "<h2>Реализация приложения для взаимодействия с пользователем для выполения операций над списком</h2>"
   ]
  },
  {
   "cell_type": "code",
   "execution_count": 7,
   "id": "5eca522e-d79d-468e-a4bf-eef8432355b0",
   "metadata": {},
   "outputs": [
    {
     "name": "stdin",
     "output_type": "stream",
     "text": [
      "Для создания списка и начала работы пропишите \"Create\"\n",
      ">> create\n"
     ]
    },
    {
     "name": "stdout",
     "output_type": "stream",
     "text": [
      "\n",
      "    Для взаимодействия со списком введите номер команды.\n",
      "    \n",
      "    Доступные команды:\n",
      "    0. Завершить программу\n",
      "    1. Вывести список в чат\n",
      "    2. Добавить элемент в начало списка\n",
      "    3. Добавить элемент в середину списка\n",
      "    4. Добавить элемент в конец списка\n",
      "    5. Удалить элемент из начала списка\n",
      "    6. Удалить элемент из середины списка\n",
      "    7. Удалить элемент из конца списка\n",
      "    8. Очистить список\n",
      "    9. Вывести значение по индексу\n",
      "    10. Вывести индекс элемента по значению\n",
      "    11. Реверсировать список\n",
      "    12. Оставить в списке первое вхождение одинаковых элементов\n",
      "    13. Вывести среднее арифметическое списка\n",
      "    14. Вывести меню с командами\n",
      "    \n"
     ]
    },
    {
     "name": "stdin",
     "output_type": "stream",
     "text": [
      "Введите номер команды\n",
      ">> 2\n",
      "Введите значение элемента\n",
      ">> 14\n"
     ]
    },
    {
     "name": "stdout",
     "output_type": "stream",
     "text": [
      "Елемент 14.0 был добавлен в начало списка\n",
      "\n"
     ]
    },
    {
     "name": "stdin",
     "output_type": "stream",
     "text": [
      "Введите номер команды\n",
      ">> 1\n"
     ]
    },
    {
     "name": "stdout",
     "output_type": "stream",
     "text": [
      "[14.0]\n",
      "\n"
     ]
    },
    {
     "name": "stdin",
     "output_type": "stream",
     "text": [
      "Введите номер команды\n",
      ">> 7\n"
     ]
    },
    {
     "name": "stdout",
     "output_type": "stream",
     "text": [
      "Елемент 14.0 был удален из конца списка\n",
      "\n"
     ]
    },
    {
     "name": "stdin",
     "output_type": "stream",
     "text": [
      "Введите номер команды\n",
      ">> 1\n"
     ]
    },
    {
     "name": "stdout",
     "output_type": "stream",
     "text": [
      "[]\n",
      "\n"
     ]
    },
    {
     "name": "stdin",
     "output_type": "stream",
     "text": [
      "Введите номер команды\n",
      ">> 4\n",
      "Введите значение элемента\n",
      ">> 2\n"
     ]
    },
    {
     "name": "stdout",
     "output_type": "stream",
     "text": [
      "Елемент 2.0 был добавлен в конец списка\n",
      "\n"
     ]
    },
    {
     "name": "stdin",
     "output_type": "stream",
     "text": [
      "Введите номер команды\n",
      ">> 4\n",
      "Введите значение элемента\n",
      ">> 2\n"
     ]
    },
    {
     "name": "stdout",
     "output_type": "stream",
     "text": [
      "Елемент 2.0 был добавлен в конец списка\n",
      "\n"
     ]
    },
    {
     "name": "stdin",
     "output_type": "stream",
     "text": [
      "Введите номер команды\n",
      ">> 4\n",
      "Введите значение элемента\n",
      ">> 5\n"
     ]
    },
    {
     "name": "stdout",
     "output_type": "stream",
     "text": [
      "Елемент 5.0 был добавлен в конец списка\n",
      "\n"
     ]
    },
    {
     "name": "stdin",
     "output_type": "stream",
     "text": [
      "Введите номер команды\n",
      ">> 4\n",
      "Введите значение элемента\n",
      ">> 5\n"
     ]
    },
    {
     "name": "stdout",
     "output_type": "stream",
     "text": [
      "Елемент 5.0 был добавлен в конец списка\n",
      "\n"
     ]
    },
    {
     "name": "stdin",
     "output_type": "stream",
     "text": [
      "Введите номер команды\n",
      ">> 1\n"
     ]
    },
    {
     "name": "stdout",
     "output_type": "stream",
     "text": [
      "[2.0, 2.0, 5.0, 5.0]\n",
      "\n"
     ]
    },
    {
     "name": "stdin",
     "output_type": "stream",
     "text": [
      "Введите номер команды\n",
      ">> 4\n",
      "Введите значение элемента\n",
      ">> 2\n"
     ]
    },
    {
     "name": "stdout",
     "output_type": "stream",
     "text": [
      "Елемент 2.0 был добавлен в конец списка\n",
      "\n"
     ]
    },
    {
     "name": "stdin",
     "output_type": "stream",
     "text": [
      "Введите номер команды\n",
      ">> 3\n",
      "Введите индекс\n",
      ">> fs\n",
      "Введите значение элемента\n",
      ">> asf\n"
     ]
    },
    {
     "name": "stdout",
     "output_type": "stream",
     "text": [
      "Вы указали некорректное значение индекса! Попробуйте еще раз.\n",
      "\n"
     ]
    },
    {
     "name": "stdin",
     "output_type": "stream",
     "text": [
      "Введите номер команды\n",
      ">> 4\n",
      "Введите значение элемента\n",
      ">> 1\n"
     ]
    },
    {
     "name": "stdout",
     "output_type": "stream",
     "text": [
      "Елемент 1.0 был добавлен в конец списка\n",
      "\n"
     ]
    },
    {
     "name": "stdin",
     "output_type": "stream",
     "text": [
      "Введите номер команды\n",
      ">> 4\n",
      "Введите значение элемента\n",
      ">> 2\n"
     ]
    },
    {
     "name": "stdout",
     "output_type": "stream",
     "text": [
      "Елемент 2.0 был добавлен в конец списка\n",
      "\n"
     ]
    },
    {
     "name": "stdin",
     "output_type": "stream",
     "text": [
      "Введите номер команды\n",
      ">> 4\n",
      "Введите значение элемента\n",
      ">> 7\n"
     ]
    },
    {
     "name": "stdout",
     "output_type": "stream",
     "text": [
      "Елемент 7.0 был добавлен в конец списка\n",
      "\n"
     ]
    },
    {
     "name": "stdin",
     "output_type": "stream",
     "text": [
      "Введите номер команды\n",
      ">> 4\n",
      "Введите значение элемента\n",
      ">> 1\n"
     ]
    },
    {
     "name": "stdout",
     "output_type": "stream",
     "text": [
      "Елемент 1.0 был добавлен в конец списка\n",
      "\n"
     ]
    },
    {
     "name": "stdin",
     "output_type": "stream",
     "text": [
      "Введите номер команды\n",
      ">> 1\n"
     ]
    },
    {
     "name": "stdout",
     "output_type": "stream",
     "text": [
      "[2.0, 2.0, 5.0, 5.0, 2.0, 1.0, 2.0, 7.0, 1.0]\n",
      "\n"
     ]
    },
    {
     "name": "stdin",
     "output_type": "stream",
     "text": [
      "Введите номер команды\n",
      ">> 14\n"
     ]
    },
    {
     "name": "stdout",
     "output_type": "stream",
     "text": [
      "\n",
      "    Для взаимодействия со списком введите номер команды.\n",
      "    \n",
      "    Доступные команды:\n",
      "    0. Завершить программу\n",
      "    1. Вывести список в чат\n",
      "    2. Добавить элемент в начало списка\n",
      "    3. Добавить элемент в середину списка\n",
      "    4. Добавить элемент в конец списка\n",
      "    5. Удалить элемент из начала списка\n",
      "    6. Удалить элемент из середины списка\n",
      "    7. Удалить элемент из конца списка\n",
      "    8. Очистить список\n",
      "    9. Вывести значение по индексу\n",
      "    10. Вывести индекс элемента по значению\n",
      "    11. Реверсировать список\n",
      "    12. Оставить в списке первое вхождение одинаковых элементов\n",
      "    13. Вывести среднее арифметическое списка\n",
      "    14. Вывести меню с командами\n",
      "    \n",
      "\n"
     ]
    },
    {
     "name": "stdin",
     "output_type": "stream",
     "text": [
      "Введите номер команды\n",
      ">> 12\n"
     ]
    },
    {
     "name": "stdout",
     "output_type": "stream",
     "text": [
      "\n"
     ]
    },
    {
     "name": "stdin",
     "output_type": "stream",
     "text": [
      "Введите номер команды\n",
      ">> 1\n"
     ]
    },
    {
     "name": "stdout",
     "output_type": "stream",
     "text": [
      "[2.0, 5.0, 1.0, 7.0]\n",
      "\n"
     ]
    },
    {
     "name": "stdin",
     "output_type": "stream",
     "text": [
      "Введите номер команды\n",
      ">> 13\n"
     ]
    },
    {
     "name": "stdout",
     "output_type": "stream",
     "text": [
      "Среднее арифметическое списка: 3.75\n",
      "\n"
     ]
    },
    {
     "name": "stdin",
     "output_type": "stream",
     "text": [
      "Введите номер команды\n",
      ">> 0\n",
      "Вы точно хотите завершить работу программы? Y/N\n",
      ">> Y\n"
     ]
    },
    {
     "name": "stdout",
     "output_type": "stream",
     "text": [
      "\n",
      "Завершение работы программы\n"
     ]
    }
   ],
   "source": [
    "menu = '''\n",
    "    Для взаимодействия со списком введите номер команды.\n",
    "    \n",
    "    Доступные команды:\n",
    "    0. Завершить программу\n",
    "    1. Вывести список в чат\n",
    "    2. Добавить элемент в начало списка\n",
    "    3. Добавить элемент в середину списка\n",
    "    4. Добавить элемент в конец списка\n",
    "    5. Удалить элемент из начала списка\n",
    "    6. Удалить элемент из середины списка\n",
    "    7. Удалить элемент из конца списка\n",
    "    8. Очистить список\n",
    "    9. Вывести значение по индексу\n",
    "    10. Вывести индекс элемента по значению\n",
    "    11. Реверсировать список\n",
    "    12. Оставить в списке первое вхождение одинаковых элементов\n",
    "    13. Вывести среднее арифметическое списка\n",
    "    14. Вывести меню с командами\n",
    "    '''\n",
    "\n",
    "message = input('Для создания списка и начала работы пропишите \"Create\"\\n>>')\n",
    "if message.lower() == 'create':\n",
    "    lst = SinglyLinkedList()\n",
    "    print(menu)\n",
    "    \n",
    "    run = True\n",
    "    while run:\n",
    "        correct = True\n",
    "        command = input('Введите номер команды\\n>>')\n",
    "        \n",
    "        try:\n",
    "            command = int(command)\n",
    "        except:\n",
    "            correct = False\n",
    "            \n",
    "        if correct:\n",
    "            correct_index = True\n",
    "            match command:\n",
    "                case 0:\n",
    "                    stop = input('Вы точно хотите завершить работу программы? Y/N\\n>>')\n",
    "                    if stop.lower() == 'y' or stop.lower() == 'yes':\n",
    "                        run = False\n",
    "                    \n",
    "                case 1:\n",
    "                    print(lst)\n",
    "                    \n",
    "                case 2:\n",
    "                    value = input('Введите значение элемента\\n>>')\n",
    "                    try:\n",
    "                        value = float(value)\n",
    "                    except:\n",
    "                        pass\n",
    "                        \n",
    "                    lst.push_front(value)\n",
    "                    print(f'Елемент {value} был добавлен в начало списка')\n",
    "                    \n",
    "                case 3:\n",
    "                    index = input('Введите индекс\\n>>')\n",
    "                    value = input('Введите значение элемента\\n>>')\n",
    "                    try:\n",
    "                        index = int(index)\n",
    "                    except:\n",
    "                        correct_index = False\n",
    "\n",
    "                    if correct_index:\n",
    "                        try:\n",
    "                            value = float(value)\n",
    "                        except:\n",
    "                            pass\n",
    "                        lst.insert(value, index)\n",
    "                        print(f'Елемент {value} был добавлен на {index} позицию списка')\n",
    "                        \n",
    "                case 4:\n",
    "                    value = input('Введите значение элемента\\n>>')\n",
    "                    try:\n",
    "                        value = float(value)\n",
    "                    except:\n",
    "                        pass\n",
    "                        \n",
    "                    lst.push_back(value)\n",
    "                    print(f'Елемент {value} был добавлен в конец списка')\n",
    "                    \n",
    "                case 5:\n",
    "                    value = lst.pop_front()\n",
    "                    print(f'Елемент {value} был удален из начала списка')\n",
    "                    \n",
    "                case 6:\n",
    "                    index = input('Введите индекс\\n>>')\n",
    "                    try:\n",
    "                        index = int(index)\n",
    "                    except:\n",
    "                        correct_index = False\n",
    "\n",
    "                    if correct_index:\n",
    "                        value = lst.pop(index)\n",
    "                        print(f'Елемент {value} был удален на {index} позиции списка')\n",
    "                        \n",
    "                case 7:\n",
    "                    value = lst.pop_back()\n",
    "                    print(f'Елемент {value} был удален из конца списка')\n",
    "                    \n",
    "                case 8:\n",
    "                    lst.clear()\n",
    "                    print('Список был очищен!')\n",
    "                    \n",
    "                case 9:\n",
    "                    index = input('Введите индекс\\n>>')\n",
    "                    try:\n",
    "                        index = int(index)\n",
    "                    except:\n",
    "                        correct_index = False\n",
    "\n",
    "                    if correct_index:\n",
    "                        print(lst[index])\n",
    "                        \n",
    "                case 10:\n",
    "                    value = input('Введите значение элемента\\n>>')\n",
    "                    try:\n",
    "                        value = float(value)\n",
    "                    except:\n",
    "                        pass\n",
    "\n",
    "                    index = lst.index(value)\n",
    "                    print(f'Элемент {value} находится в списке под индексом {index}')\n",
    "\n",
    "                case 11:\n",
    "                    lst.reverse()\n",
    "\n",
    "                case 12:\n",
    "                    lst.set()\n",
    "\n",
    "                case 13:\n",
    "                    value = lst.mean()\n",
    "                    print(f'Среднее арифметическое списка: {value}')\n",
    "\n",
    "                case 14:\n",
    "                    print(menu)\n",
    "\n",
    "                case _:\n",
    "                    print(f'Не существует команды с номером {command}! Попробуйте еще раз.')\n",
    "                    \n",
    "            if not correct_index:\n",
    "                print('Вы указали некорректное значение индекса! Попробуйте еще раз.')\n",
    "        else:\n",
    "            print('Вы ввели не число! Попробуйте еще раз.')\n",
    "        print()\n",
    "print('Завершение работы программы')"
   ]
  },
  {
   "cell_type": "code",
   "execution_count": null,
   "id": "4fe3dc31-ef35-4605-ac9b-da8112f3bb9a",
   "metadata": {},
   "outputs": [],
   "source": []
  }
 ],
 "metadata": {
  "kernelspec": {
   "display_name": "Python 3 (ipykernel)",
   "language": "python",
   "name": "python3"
  },
  "language_info": {
   "codemirror_mode": {
    "name": "ipython",
    "version": 3
   },
   "file_extension": ".py",
   "mimetype": "text/x-python",
   "name": "python",
   "nbconvert_exporter": "python",
   "pygments_lexer": "ipython3",
   "version": "3.11.5"
  }
 },
 "nbformat": 4,
 "nbformat_minor": 5
}
